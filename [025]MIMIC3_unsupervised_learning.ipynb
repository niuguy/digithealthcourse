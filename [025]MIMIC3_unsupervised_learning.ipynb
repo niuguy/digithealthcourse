{
  "nbformat": 4,
  "nbformat_minor": 0,
  "metadata": {
    "colab": {
      "name": "[025]MIMIC3-unsupervised_learning.ipynb",
      "provenance": [],
      "collapsed_sections": [],
      "machine_shape": "hm",
      "authorship_tag": "ABX9TyOJGAJZPSHD+ZHL1i6Ycxc3",
      "include_colab_link": true
    },
    "kernelspec": {
      "name": "python3",
      "display_name": "Python 3"
    }
  },
  "cells": [
    {
      "cell_type": "markdown",
      "metadata": {
        "id": "view-in-github",
        "colab_type": "text"
      },
      "source": [
        "<a href=\"https://colab.research.google.com/github/niuguy/digithealthcourse/blob/master/%5B025%5DMIMIC3_unsupervised_learning.ipynb\" target=\"_parent\"><img src=\"https://colab.research.google.com/assets/colab-badge.svg\" alt=\"Open In Colab\"/></a>"
      ]
    },
    {
      "cell_type": "markdown",
      "metadata": {
        "id": "f1IUqAg6rp8k",
        "colab_type": "text"
      },
      "source": [
        "### What is unsupervised Learning?\n",
        "Unsupervised learning algorithms take a set of data that contains only inputs, and find structure in the data, like grouping or clustering of data points.\n",
        "https://en.wikipedia.org/wiki/Machine_learning#Unsupervised_learning\n",
        "### Why Unsupervised Learning?\n",
        "\n",
        "* It's a new perspective of looking at the data, we may call it 'advanced' data exploration technique\n",
        "* Because we may want to gain some insight or do dimension reduction before we design a classifier\n",
        "* It's actually how people observe the world and learn new things, thus it implies the future of machine learning."
      ]
    },
    {
      "cell_type": "markdown",
      "metadata": {
        "id": "VH5-ymKLz7Ib",
        "colab_type": "text"
      },
      "source": [
        "### Main methods\n",
        "\n",
        "\n",
        "#### **Principle Component Analysis（PCA）**\n",
        "\n",
        "> Principal component analysis is a technique for feature extraction — so it combines our input variables in a specific way, then we can drop the “least important” variables while still retaining the most valuable parts of all of the variables \n",
        "\n",
        "refer to https://towardsdatascience.com/a-one-stop-shop-for-principal-component-analysis-5582fb7e0a9c\n",
        "\n",
        "![alt text](https://www.analyticsvidhya.com/wp-content/uploads/2016/03/2-1-e1458494877196.png)\n",
        "\n",
        "The two major benefits of PCA\n",
        "\n",
        "* Dimension reduction\n",
        "* So we can draw a high dimension dataset with 2-D figure\n"
      ]
    },
    {
      "cell_type": "markdown",
      "metadata": {
        "id": "oku0jT47zXMh",
        "colab_type": "text"
      },
      "source": [
        "#### **Clustering**\n",
        "Clustering is to group the dataset into a bunch of categories. Two major clustering methods are K-means and Hierachical clustering\n",
        "\n",
        "**K-means**\n",
        "\n",
        "https://towardsdatascience.com/k-means-clustering-algorithm-applications-evaluation-methods-and-drawbacks-aa03e644b48a\n",
        "\n",
        "![K-means](https://miro.medium.com/max/1192/1*CFW4k0pYMZUBVznPplLOcA.png)"
      ]
    },
    {
      "cell_type": "markdown",
      "metadata": {
        "id": "jCym7rL22kyx",
        "colab_type": "text"
      },
      "source": [
        "**Hierachical Clustering**"
      ]
    },
    {
      "cell_type": "markdown",
      "metadata": {
        "id": "vJnPs4hm2tQF",
        "colab_type": "text"
      },
      "source": [
        "Hierachical Clustering seeks to build a hierachy of clusters. There are two strategies:\n",
        "\n",
        "* Agglomerative: \"bottom-up\" approach:\n",
        "* Divisive: \"top-down\" approach\n",
        "\n",
        "*Dendrogram* is a tree-like diagram that records the sequences of merges or splits.\n",
        "\n",
        "Agglomerative \n",
        "\n",
        "![alt text](https://miro.medium.com/max/2338/1*PTyc1oCfBWw_OQgkd_LYgQ.png)\n",
        "\n",
        "\n",
        "Divisive\n",
        "\n",
        "![alt text](https://miro.medium.com/max/2260/1*u95933tR2qj-qhM3WhNdIQ.png)\n",
        "\n",
        "[Understanding the concept of Hierarchical clustering Technique](https://towardsdatascience.com/understanding-the-concept-of-hierarchical-clustering-technique-c6e8243758ec)"
      ]
    },
    {
      "cell_type": "markdown",
      "metadata": {
        "id": "3KVHz8eb7VH3",
        "colab_type": "text"
      },
      "source": [
        "## The cases"
      ]
    },
    {
      "cell_type": "code",
      "metadata": {
        "id": "VDNOcCdp2I5t",
        "colab_type": "code",
        "colab": {}
      },
      "source": [
        "import pandas as pd\n",
        "import numpy as np\n",
        "import seaborn as sns\n",
        "import matplotlib.pyplot as plt\n",
        "from sklearn.model_selection import train_test_split\n",
        "from sklearn.linear_model import LogisticRegression\n",
        "from sklearn.svm import SVC, LinearSVC\n",
        "from sklearn.ensemble import RandomForestClassifier\n",
        "from sklearn.neighbors import KNeighborsClassifier\n",
        "from sklearn.naive_bayes import GaussianNB\n",
        "from sklearn.linear_model import SGDClassifier\n",
        "from sklearn.tree import DecisionTreeClassifier\n",
        "from xgboost import XGBClassifier\n",
        "from xgboost import plot_importance\n",
        "from sklearn.metrics import classification_report\n",
        "from sklearn.metrics import plot_confusion_matrix\n",
        "from sklearn.metrics import f1_score\n",
        "from sklearn.preprocessing import MinMaxScaler\n",
        "\n",
        "%matplotlib inline"
      ],
      "execution_count": 0,
      "outputs": []
    },
    {
      "cell_type": "code",
      "metadata": {
        "id": "uDXB71kf2RYR",
        "colab_type": "code",
        "outputId": "782c16e3-2eda-405b-922e-d8b62a8a0d1b",
        "colab": {
          "base_uri": "https://localhost:8080/",
          "height": 122
        }
      },
      "source": [
        "from google.colab import drive\n",
        "drive.mount('/content/drive')"
      ],
      "execution_count": 0,
      "outputs": [
        {
          "output_type": "stream",
          "text": [
            "Go to this URL in a browser: https://accounts.google.com/o/oauth2/auth?client_id=947318989803-6bn6qk8qdgf4n4g3pfee6491hc0brc4i.apps.googleusercontent.com&redirect_uri=urn%3aietf%3awg%3aoauth%3a2.0%3aoob&response_type=code&scope=email%20https%3a%2f%2fwww.googleapis.com%2fauth%2fdocs.test%20https%3a%2f%2fwww.googleapis.com%2fauth%2fdrive%20https%3a%2f%2fwww.googleapis.com%2fauth%2fdrive.photos.readonly%20https%3a%2f%2fwww.googleapis.com%2fauth%2fpeopleapi.readonly\n",
            "\n",
            "Enter your authorization code:\n",
            "··········\n",
            "Mounted at /content/drive\n"
          ],
          "name": "stdout"
        }
      ]
    },
    {
      "cell_type": "code",
      "metadata": {
        "id": "PTs80ri_2Tp7",
        "colab_type": "code",
        "outputId": "ca0375ce-cff7-4c45-957f-b26541b4b9c3",
        "colab": {
          "base_uri": "https://localhost:8080/",
          "height": 51
        }
      },
      "source": [
        "df_m3 = pd.read_csv('/content/drive/My Drive/Dataset/df_m3_processed.csv')"
      ],
      "execution_count": 0,
      "outputs": [
        {
          "output_type": "stream",
          "text": [
            "/usr/local/lib/python3.6/dist-packages/IPython/core/interactiveshell.py:2718: DtypeWarning: Columns (5) have mixed types. Specify dtype option on import or set low_memory=False.\n",
            "  interactivity=interactivity, compiler=compiler, result=result)\n"
          ],
          "name": "stderr"
        }
      ]
    },
    {
      "cell_type": "code",
      "metadata": {
        "id": "-waX5ke32VqL",
        "colab_type": "code",
        "colab": {}
      },
      "source": [
        "features = [ 'ADMISSION_TYPE',\n",
        "       'MARITAL_STATUS', 'INSURANCE', 'LANGUAGE',\n",
        "       'RELIGION', 'ETHNICITY', 'GENDER', 'AGE', 'CALLOUT_COUNT',\n",
        "       'DIAG_COUNT', 'PRES_COUNT', 'PROC_COUNT', 'CPT_COUNT', 'LAB_COUNT',\n",
        "       'INPUTS_CV_COUNT', 'INPUTS_MV_COUNT', 'OUTPUT_COUNT', 'TRANSFER_COUNT',\n",
        "       'MICRO_COUNT']"
      ],
      "execution_count": 0,
      "outputs": []
    },
    {
      "cell_type": "code",
      "metadata": {
        "id": "oUS6SnZb2Zjf",
        "colab_type": "code",
        "colab": {}
      },
      "source": [
        "train_X = df_m3.loc[:,features]\n",
        "scaler = MinMaxScaler()\n",
        "train_X = scaler.fit_transform(train_X)"
      ],
      "execution_count": 0,
      "outputs": []
    },
    {
      "cell_type": "markdown",
      "metadata": {
        "id": "d8tPyPSeAdL4",
        "colab_type": "text"
      },
      "source": [
        "### PCA"
      ]
    },
    {
      "cell_type": "code",
      "metadata": {
        "id": "ZgSumz5nEklF",
        "colab_type": "code",
        "colab": {}
      },
      "source": [
        "from sklearn.decomposition import PCA"
      ],
      "execution_count": 0,
      "outputs": []
    },
    {
      "cell_type": "code",
      "metadata": {
        "id": "BQoXPRUDGE8o",
        "colab_type": "code",
        "colab": {}
      },
      "source": [
        "pca = PCA(n_components=2).fit(train_X)\n",
        "pca_2d = pca.transform(train_X)"
      ],
      "execution_count": 0,
      "outputs": []
    },
    {
      "cell_type": "code",
      "metadata": {
        "id": "HnoZkpLe6BAB",
        "colab_type": "code",
        "colab": {}
      },
      "source": [
        "help(PCA)"
      ],
      "execution_count": 0,
      "outputs": []
    },
    {
      "cell_type": "code",
      "metadata": {
        "id": "Y3SQtLRkGbNn",
        "colab_type": "code",
        "outputId": "d5c377c0-c928-4539-ee6a-74f2268bada6",
        "colab": {
          "base_uri": "https://localhost:8080/",
          "height": 282
        }
      },
      "source": [
        "## Plotting\n",
        "plt.figure('Reference Plot')\n",
        "plt.scatter(pca_2d[:, 0], pca_2d[:, 1])"
      ],
      "execution_count": 0,
      "outputs": [
        {
          "output_type": "execute_result",
          "data": {
            "text/plain": [
              "<matplotlib.collections.PathCollection at 0x7f7877c8f160>"
            ]
          },
          "metadata": {
            "tags": []
          },
          "execution_count": 32
        },
        {
          "output_type": "display_data",
          "data": {
            "image/png": "[encoded data removed]",
            "text/plain": [
              "<Figure size 432x288 with 1 Axes>"
            ]
          },
          "metadata": {
            "tags": []
          }
        }
      ]
    },
    {
      "cell_type": "markdown",
      "metadata": {
        "id": "zIV9HfWvouHU",
        "colab_type": "text"
      },
      "source": [
        "### K-means Clustering"
      ]
    },
    {
      "cell_type": "code",
      "metadata": {
        "id": "Pt4b-R-C90hz",
        "colab_type": "code",
        "colab": {}
      },
      "source": [
        "from sklearn.cluster import KMeans"
      ],
      "execution_count": 0,
      "outputs": []
    },
    {
      "cell_type": "code",
      "metadata": {
        "id": "Fk6JmGq_owJb",
        "colab_type": "code",
        "outputId": "32d6a022-5fe8-4c8f-96c1-1ba67fda3402",
        "colab": {
          "base_uri": "https://localhost:8080/",
          "height": 68
        }
      },
      "source": [
        "## Let's start with 2 cluster\n",
        "kmeans = KMeans(n_clusters=4)\n",
        "kmeans.fit(train_X)"
      ],
      "execution_count": 0,
      "outputs": [
        {
          "output_type": "execute_result",
          "data": {
            "text/plain": [
              "KMeans(algorithm='auto', copy_x=True, init='k-means++', max_iter=300,\n",
              "       n_clusters=4, n_init=10, n_jobs=None, precompute_distances='auto',\n",
              "       random_state=None, tol=0.0001, verbose=0)"
            ]
          },
          "metadata": {
            "tags": []
          },
          "execution_count": 33
        }
      ]
    },
    {
      "cell_type": "code",
      "metadata": {
        "id": "924QftIKJQZC",
        "colab_type": "code",
        "colab": {}
      },
      "source": [
        "help(KMeans)"
      ],
      "execution_count": 0,
      "outputs": []
    },
    {
      "cell_type": "code",
      "metadata": {
        "id": "7Cm3vHwf9raS",
        "colab_type": "code",
        "outputId": "a3a1b06b-c6f6-4ba0-8c3f-3990373f3541",
        "colab": {
          "base_uri": "https://localhost:8080/",
          "height": 493
        }
      },
      "source": [
        "## The cluster center of \n",
        "kmeans.cluster_centers_"
      ],
      "execution_count": 0,
      "outputs": [
        {
          "output_type": "execute_result",
          "data": {
            "text/plain": [
              "array([[ 2.99725264e-01,  4.82302134e-01,  5.60361861e-01,\n",
              "         6.87943419e-01,  7.82791488e-01,  7.91972451e-01,\n",
              "         1.00000000e+00,  6.22398103e-01,  1.03921031e-01,\n",
              "         1.15105566e-01,  2.57991747e-02,  4.72952399e-02,\n",
              "         1.29612736e-02,  1.79363719e-02,  4.25574962e-03,\n",
              "         4.12379498e-03,  9.55159559e-03,  9.44479225e-02,\n",
              "         1.25778172e-02],\n",
              "       [ 2.96728333e-01,  5.53935417e-01,  5.43060239e-01,\n",
              "         6.90625146e-01,  2.22776480e-01,  8.43807528e-01,\n",
              "        -6.56141808e-14,  6.88210456e-01,  1.07797060e-01,\n",
              "         1.22648716e-01,  2.67499095e-02,  4.39767031e-02,\n",
              "         1.38907791e-02,  1.82395860e-02,  4.01500339e-03,\n",
              "         3.59213557e-03,  9.24648923e-03,  9.47678392e-02,\n",
              "         1.46065201e-02],\n",
              "       [ 3.07646141e-01,  5.61757292e-01,  5.35402413e-01,\n",
              "         6.86040740e-01,  8.21683756e-01,  7.30941664e-01,\n",
              "        -6.58362254e-14,  6.22352659e-01,  1.05702454e-01,\n",
              "         1.18319299e-01,  2.58473631e-02,  4.20772635e-02,\n",
              "         1.37810254e-02,  1.80657565e-02,  4.21216680e-03,\n",
              "         3.66969898e-03,  9.27744992e-03,  9.34696615e-02,\n",
              "         1.41695289e-02],\n",
              "       [ 2.94905045e-01,  4.47670041e-01,  5.60319585e-01,\n",
              "         6.89472958e-01,  1.65626775e-01,  8.42642015e-01,\n",
              "         1.00000000e+00,  6.44922614e-01,  1.08842968e-01,\n",
              "         1.19593665e-01,  2.73887651e-02,  4.89351982e-02,\n",
              "         1.38274476e-02,  1.92811184e-02,  5.01560252e-03,\n",
              "         4.27659628e-03,  1.04349818e-02,  9.49124069e-02,\n",
              "         1.36915404e-02]])"
            ]
          },
          "metadata": {
            "tags": []
          },
          "execution_count": 34
        }
      ]
    },
    {
      "cell_type": "code",
      "metadata": {
        "id": "nk-5b3sa-zZ4",
        "colab_type": "code",
        "outputId": "37fa54c0-51e2-4b09-add4-ca8e25dacd64",
        "colab": {
          "base_uri": "https://localhost:8080/",
          "height": 34
        }
      },
      "source": [
        "kmeans.labels_"
      ],
      "execution_count": 0,
      "outputs": [
        {
          "output_type": "execute_result",
          "data": {
            "text/plain": [
              "array([3, 0, 3, ..., 2, 0, 0], dtype=int32)"
            ]
          },
          "metadata": {
            "tags": []
          },
          "execution_count": 35
        }
      ]
    },
    {
      "cell_type": "code",
      "metadata": {
        "id": "43Jq1eVGIukS",
        "colab_type": "code",
        "outputId": "3efded11-0733-4041-ff49-97b2741f249c",
        "colab": {
          "base_uri": "https://localhost:8080/",
          "height": 34
        }
      },
      "source": [
        "np.unique(kmeans.labels_)"
      ],
      "execution_count": 0,
      "outputs": [
        {
          "output_type": "execute_result",
          "data": {
            "text/plain": [
              "array([0, 1, 2, 3], dtype=int32)"
            ]
          },
          "metadata": {
            "tags": []
          },
          "execution_count": 36
        }
      ]
    },
    {
      "cell_type": "markdown",
      "metadata": {
        "id": "8aSWN-F_IbjY",
        "colab_type": "text"
      },
      "source": [
        "#### Ploting kmeans labels with PCA"
      ]
    },
    {
      "cell_type": "code",
      "metadata": {
        "id": "6WUSljwG-6s7",
        "colab_type": "code",
        "outputId": "09af5ad6-31e2-48be-f9d0-eb46224fa3a9",
        "colab": {
          "base_uri": "https://localhost:8080/",
          "height": 265
        }
      },
      "source": [
        "plt.figure('K-means with 4 clusters')\n",
        "plt.scatter(pca_2d[:, 0], pca_2d[:, 1], c=kmeans.labels_)\n",
        "plt.show()"
      ],
      "execution_count": 0,
      "outputs": [
        {
          "output_type": "display_data",
          "data": {
            "image/png": "[encoded data removed]",
            "text/plain": [
              "<Figure size 432x288 with 1 Axes>"
            ]
          },
          "metadata": {
            "tags": []
          }
        }
      ]
    },
    {
      "cell_type": "markdown",
      "metadata": {
        "id": "oyORD_8VKJvA",
        "colab_type": "text"
      },
      "source": [
        "### Hierarchical clustering"
      ]
    },
    {
      "cell_type": "markdown",
      "metadata": {
        "id": "p4O8mZ3IgzWr",
        "colab_type": "text"
      },
      "source": [
        "https://docs.scipy.org/doc/scipy/reference/generated/scipy.cluster.hierarchy.linkage.html"
      ]
    },
    {
      "cell_type": "code",
      "metadata": {
        "id": "ZhRnp3JQKaYY",
        "colab_type": "code",
        "colab": {}
      },
      "source": [
        "from scipy.cluster.hierarchy import dendrogram, linkage"
      ],
      "execution_count": 0,
      "outputs": []
    },
    {
      "cell_type": "code",
      "metadata": {
        "id": "Kf7z4K2VhOT2",
        "colab_type": "code",
        "colab": {}
      },
      "source": [
        "# For the \n",
        "idx = np.random.randint(len(train_X), size=100)"
      ],
      "execution_count": 0,
      "outputs": []
    },
    {
      "cell_type": "code",
      "metadata": {
        "id": "k6O-8y1EkEKa",
        "colab_type": "code",
        "outputId": "859feef7-a3b4-4c9a-d324-de9372fafc5e",
        "colab": {
          "base_uri": "https://localhost:8080/",
          "height": 238
        }
      },
      "source": [
        "train_X[idx, :]"
      ],
      "execution_count": 0,
      "outputs": [
        {
          "output_type": "execute_result",
          "data": {
            "text/plain": [
              "array([[0.        , 0.        , 0.5       , ..., 0.00784698, 0.175     ,\n",
              "        0.00181818],\n",
              "       [0.33333333, 0.        , 0.75      , ..., 0.00392349, 0.075     ,\n",
              "        0.00363636],\n",
              "       [0.33333333, 0.66666667, 0.75      , ..., 0.00294262, 0.125     ,\n",
              "        0.04      ],\n",
              "       ...,\n",
              "       [0.33333333, 0.33333333, 0.75      , ..., 0.0013487 , 0.075     ,\n",
              "        0.00636364],\n",
              "       [0.33333333, 0.33333333, 0.25      , ..., 0.01233448, 0.0155    ,\n",
              "        0.03076364],\n",
              "       [0.33333333, 0.66666667, 0.25      , ..., 0.00098087, 0.2       ,\n",
              "        0.00363636]])"
            ]
          },
          "metadata": {
            "tags": []
          },
          "execution_count": 25
        }
      ]
    },
    {
      "cell_type": "code",
      "metadata": {
        "id": "6h6GWPLQdBHi",
        "colab_type": "code",
        "colab": {}
      },
      "source": [
        "# Do linkage/\n",
        "Z = linkage(train_X[idx,:])"
      ],
      "execution_count": 0,
      "outputs": []
    },
    {
      "cell_type": "code",
      "metadata": {
        "id": "KDYS29uPkmKx",
        "colab_type": "code",
        "outputId": "3bc9cc18-29d0-404a-ca4a-433db6199c6e",
        "colab": {
          "base_uri": "https://localhost:8080/",
          "height": 1000
        }
      },
      "source": [
        "help(linkage)"
      ],
      "execution_count": 0,
      "outputs": [
        {
          "output_type": "stream",
          "text": [
            "Help on function linkage in module scipy.cluster.hierarchy:\n",
            "\n",
            "linkage(y, method='single', metric='euclidean', optimal_ordering=False)\n",
            "    Perform hierarchical/agglomerative clustering.\n",
            "    \n",
            "    The input y may be either a 1d condensed distance matrix\n",
            "    or a 2d array of observation vectors.\n",
            "    \n",
            "    If y is a 1d condensed distance matrix,\n",
            "    then y must be a :math:`\\binom{n}{2}` sized\n",
            "    vector where n is the number of original observations paired\n",
            "    in the distance matrix. The behavior of this function is very\n",
            "    similar to the MATLAB linkage function.\n",
            "    \n",
            "    A :math:`(n-1)` by 4 matrix ``Z`` is returned. At the\n",
            "    :math:`i`-th iteration, clusters with indices ``Z[i, 0]`` and\n",
            "    ``Z[i, 1]`` are combined to form cluster :math:`n + i`. A\n",
            "    cluster with an index less than :math:`n` corresponds to one of\n",
            "    the :math:`n` original observations. The distance between\n",
            "    clusters ``Z[i, 0]`` and ``Z[i, 1]`` is given by ``Z[i, 2]``. The\n",
            "    fourth value ``Z[i, 3]`` represents the number of original\n",
            "    observations in the newly formed cluster.\n",
            "    \n",
            "    The following linkage methods are used to compute the distance\n",
            "    :math:`d(s, t)` between two clusters :math:`s` and\n",
            "    :math:`t`. The algorithm begins with a forest of clusters that\n",
            "    have yet to be used in the hierarchy being formed. When two\n",
            "    clusters :math:`s` and :math:`t` from this forest are combined\n",
            "    into a single cluster :math:`u`, :math:`s` and :math:`t` are\n",
            "    removed from the forest, and :math:`u` is added to the\n",
            "    forest. When only one cluster remains in the forest, the algorithm\n",
            "    stops, and this cluster becomes the root.\n",
            "    \n",
            "    A distance matrix is maintained at each iteration. The ``d[i,j]``\n",
            "    entry corresponds to the distance between cluster :math:`i` and\n",
            "    :math:`j` in the original forest.\n",
            "    \n",
            "    At each iteration, the algorithm must update the distance matrix\n",
            "    to reflect the distance of the newly formed cluster u with the\n",
            "    remaining clusters in the forest.\n",
            "    \n",
            "    Suppose there are :math:`|u|` original observations\n",
            "    :math:`u[0], \\ldots, u[|u|-1]` in cluster :math:`u` and\n",
            "    :math:`|v|` original objects :math:`v[0], \\ldots, v[|v|-1]` in\n",
            "    cluster :math:`v`. Recall :math:`s` and :math:`t` are\n",
            "    combined to form cluster :math:`u`. Let :math:`v` be any\n",
            "    remaining cluster in the forest that is not :math:`u`.\n",
            "    \n",
            "    The following are methods for calculating the distance between the\n",
            "    newly formed cluster :math:`u` and each :math:`v`.\n",
            "    \n",
            "      * method='single' assigns\n",
            "    \n",
            "        .. math::\n",
            "           d(u,v) = \\min(dist(u[i],v[j]))\n",
            "    \n",
            "        for all points :math:`i` in cluster :math:`u` and\n",
            "        :math:`j` in cluster :math:`v`. This is also known as the\n",
            "        Nearest Point Algorithm.\n",
            "    \n",
            "      * method='complete' assigns\n",
            "    \n",
            "        .. math::\n",
            "           d(u, v) = \\max(dist(u[i],v[j]))\n",
            "    \n",
            "        for all points :math:`i` in cluster u and :math:`j` in\n",
            "        cluster :math:`v`. This is also known by the Farthest Point\n",
            "        Algorithm or Voor Hees Algorithm.\n",
            "    \n",
            "      * method='average' assigns\n",
            "    \n",
            "        .. math::\n",
            "           d(u,v) = \\sum_{ij} \\frac{d(u[i], v[j])}\n",
            "                                   {(|u|*|v|)}\n",
            "    \n",
            "        for all points :math:`i` and :math:`j` where :math:`|u|`\n",
            "        and :math:`|v|` are the cardinalities of clusters :math:`u`\n",
            "        and :math:`v`, respectively. This is also called the UPGMA\n",
            "        algorithm.\n",
            "    \n",
            "      * method='weighted' assigns\n",
            "    \n",
            "        .. math::\n",
            "           d(u,v) = (dist(s,v) + dist(t,v))/2\n",
            "    \n",
            "        where cluster u was formed with cluster s and t and v\n",
            "        is a remaining cluster in the forest. (also called WPGMA)\n",
            "    \n",
            "      * method='centroid' assigns\n",
            "    \n",
            "        .. math::\n",
            "           dist(s,t) = ||c_s-c_t||_2\n",
            "    \n",
            "        where :math:`c_s` and :math:`c_t` are the centroids of\n",
            "        clusters :math:`s` and :math:`t`, respectively. When two\n",
            "        clusters :math:`s` and :math:`t` are combined into a new\n",
            "        cluster :math:`u`, the new centroid is computed over all the\n",
            "        original objects in clusters :math:`s` and :math:`t`. The\n",
            "        distance then becomes the Euclidean distance between the\n",
            "        centroid of :math:`u` and the centroid of a remaining cluster\n",
            "        :math:`v` in the forest. This is also known as the UPGMC\n",
            "        algorithm.\n",
            "    \n",
            "      * method='median' assigns :math:`d(s,t)` like the ``centroid``\n",
            "        method. When two clusters :math:`s` and :math:`t` are combined\n",
            "        into a new cluster :math:`u`, the average of centroids s and t\n",
            "        give the new centroid :math:`u`. This is also known as the\n",
            "        WPGMC algorithm.\n",
            "    \n",
            "      * method='ward' uses the Ward variance minimization algorithm.\n",
            "        The new entry :math:`d(u,v)` is computed as follows,\n",
            "    \n",
            "        .. math::\n",
            "    \n",
            "           d(u,v) = \\sqrt{\\frac{|v|+|s|}\n",
            "                               {T}d(v,s)^2\n",
            "                        + \\frac{|v|+|t|}\n",
            "                               {T}d(v,t)^2\n",
            "                        - \\frac{|v|}\n",
            "                               {T}d(s,t)^2}\n",
            "    \n",
            "        where :math:`u` is the newly joined cluster consisting of\n",
            "        clusters :math:`s` and :math:`t`, :math:`v` is an unused\n",
            "        cluster in the forest, :math:`T=|v|+|s|+|t|`, and\n",
            "        :math:`|*|` is the cardinality of its argument. This is also\n",
            "        known as the incremental algorithm.\n",
            "    \n",
            "    Warning: When the minimum distance pair in the forest is chosen, there\n",
            "    may be two or more pairs with the same minimum distance. This\n",
            "    implementation may choose a different minimum than the MATLAB\n",
            "    version.\n",
            "    \n",
            "    Parameters\n",
            "    ----------\n",
            "    y : ndarray\n",
            "        A condensed distance matrix. A condensed distance matrix\n",
            "        is a flat array containing the upper triangular of the distance matrix.\n",
            "        This is the form that ``pdist`` returns. Alternatively, a collection of\n",
            "        :math:`m` observation vectors in :math:`n` dimensions may be passed as\n",
            "        an :math:`m` by :math:`n` array. All elements of the condensed distance\n",
            "        matrix must be finite, i.e. no NaNs or infs.\n",
            "    method : str, optional\n",
            "        The linkage algorithm to use. See the ``Linkage Methods`` section below\n",
            "        for full descriptions.\n",
            "    metric : str or function, optional\n",
            "        The distance metric to use in the case that y is a collection of\n",
            "        observation vectors; ignored otherwise. See the ``pdist``\n",
            "        function for a list of valid distance metrics. A custom distance\n",
            "        function can also be used.\n",
            "    optimal_ordering : bool, optional\n",
            "        If True, the linkage matrix will be reordered so that the distance\n",
            "        between successive leaves is minimal. This results in a more intuitive\n",
            "        tree structure when the data are visualized. defaults to False, because\n",
            "        this algorithm can be slow, particularly on large datasets [2]_. See\n",
            "        also the `optimal_leaf_ordering` function.\n",
            "    \n",
            "        .. versionadded:: 1.0.0\n",
            "    \n",
            "    Returns\n",
            "    -------\n",
            "    Z : ndarray\n",
            "        The hierarchical clustering encoded as a linkage matrix.\n",
            "    \n",
            "    Notes\n",
            "    -----\n",
            "    1. For method 'single' an optimized algorithm based on minimum spanning\n",
            "       tree is implemented. It has time complexity :math:`O(n^2)`.\n",
            "       For methods 'complete', 'average', 'weighted' and 'ward' an algorithm\n",
            "       called nearest-neighbors chain is implemented. It also has time\n",
            "       complexity :math:`O(n^2)`.\n",
            "       For other methods a naive algorithm is implemented with :math:`O(n^3)`\n",
            "       time complexity.\n",
            "       All algorithms use :math:`O(n^2)` memory.\n",
            "       Refer to [1]_ for details about the algorithms.\n",
            "    2. Methods 'centroid', 'median' and 'ward' are correctly defined only if\n",
            "       Euclidean pairwise metric is used. If `y` is passed as precomputed\n",
            "       pairwise distances, then it is a user responsibility to assure that\n",
            "       these distances are in fact Euclidean, otherwise the produced result\n",
            "       will be incorrect.\n",
            "    \n",
            "    See Also\n",
            "    --------\n",
            "    scipy.spatial.distance.pdist : pairwise distance metrics\n",
            "    \n",
            "    References\n",
            "    ----------\n",
            "    .. [1] Daniel Mullner, \"Modern hierarchical, agglomerative clustering\n",
            "           algorithms\", :arXiv:`1109.2378v1`.\n",
            "    .. [2] Ziv Bar-Joseph, David K. Gifford, Tommi S. Jaakkola, \"Fast optimal\n",
            "           leaf ordering for hierarchical clustering\", 2001. Bioinformatics\n",
            "           :doi:`10.1093/bioinformatics/17.suppl_1.S22`\n",
            "    \n",
            "    Examples\n",
            "    --------\n",
            "    >>> from scipy.cluster.hierarchy import dendrogram, linkage\n",
            "    >>> from matplotlib import pyplot as plt\n",
            "    >>> X = [[i] for i in [2, 8, 0, 4, 1, 9, 9, 0]]\n",
            "    \n",
            "    >>> Z = linkage(X, 'ward')\n",
            "    >>> fig = plt.figure(figsize=(25, 10))\n",
            "    >>> dn = dendrogram(Z)\n",
            "    \n",
            "    >>> Z = linkage(X, 'single')\n",
            "    >>> fig = plt.figure(figsize=(25, 10))\n",
            "    >>> dn = dendrogram(Z)\n",
            "    >>> plt.show()\n",
            "\n"
          ],
          "name": "stdout"
        }
      ]
    },
    {
      "cell_type": "code",
      "metadata": {
        "id": "aLEFzlF2dDf6",
        "colab_type": "code",
        "outputId": "5fe8bc8a-b725-4b8e-8ebd-3228612507be",
        "colab": {
          "base_uri": "https://localhost:8080/",
          "height": 622
        }
      },
      "source": [
        "plt.figure(figsize=(25, 10))\n",
        "plt.title('Hierarchical Clustering Dendrogram')\n",
        "plt.xlabel('sample index')\n",
        "plt.ylabel('distance')\n",
        "dendrogram(\n",
        "    Z,\n",
        "    leaf_rotation=90.,  # rotates the x axis labels\n",
        "    leaf_font_size=8.,  # font size for the x axis labels\n",
        ")\n",
        "plt.show()"
      ],
      "execution_count": 0,
      "outputs": [
        {
          "output_type": "display_data",
          "data": {
            "image/png": "[encoded data removed]",
            "text/plain": [
              "<Figure size 1800x720 with 1 Axes>"
            ]
          },
          "metadata": {
            "tags": []
          }
        }
      ]
    }
  ]
}
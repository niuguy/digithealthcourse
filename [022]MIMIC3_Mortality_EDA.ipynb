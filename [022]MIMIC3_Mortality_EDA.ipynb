{
  "nbformat": 4,
  "nbformat_minor": 0,
  "metadata": {
    "colab": {
      "name": "MIMIC3-Mortality-EDA.ipynb",
      "provenance": [],
      "collapsed_sections": [],
      "include_colab_link": true
    },
    "kernelspec": {
      "name": "python3",
      "display_name": "Python 3"
    }
  },
  "cells": [
    {
      "cell_type": "markdown",
      "metadata": {
        "id": "view-in-github",
        "colab_type": "text"
      },
      "source": [
        "<a href=\"https://colab.research.google.com/github/niuguy/digithealthcourse/blob/master/MIMIC3_Mortality_EDA.ipynb\" target=\"_parent\"><img src=\"https://colab.research.google.com/assets/colab-badge.svg\" alt=\"Open In Colab\"/></a>"
      ]
    },
    {
      "cell_type": "markdown",
      "metadata": {
        "colab_type": "text",
        "id": "sTjUpR8_p0SG"
      },
      "source": [
        "# Mortality prediction - feature engineering"
      ]
    },
    {
      "cell_type": "markdown",
      "metadata": {
        "colab_type": "text",
        "id": "IR0H8cku8jrg"
      },
      "source": [
        "The aim of the feature engineering:\n",
        "\n",
        "**Creating**: Feature engineering is when we use existing features to create new features to determine if they provide new signals to predict our outcome. In this task, we will create at least one new feature to see if it plays a role.\n",
        "\n",
        "**Converting**: The raw dataset is always not ready for analysis, some features need to be converted, or be normalized to meet the requirements. Besides, before we feed the training dataset into prediction/classification models, all datatypes need to be converted to numerical values for mathematical computation.\n",
        "\n",
        "**Completing**. Data preparation may also require us to estimate any missing values within a feature. Model algorithms may work best when there are no missing values.\n",
        "\n",
        "**Correcting**. We may also analyze the given training dataset for errors or possibly innacurate values within features and try to corrent these values or exclude the samples containing the errors. One way to do this is to detect any outliers among our samples or features. \n",
        "\n",
        "**Correlating**. One can approach the problem based on available features within the training dataset. Which features within the dataset contribute significantly to our solution goal? As the feature values change does the solution state change as well, and visa-versa? This can be tested both for numerical and categorical features in the given dataset.\n"
      ]
    },
    {
      "cell_type": "markdown",
      "metadata": {
        "colab_type": "text",
        "id": "eCvWk7U2vILp"
      },
      "source": [
        "## Data preparation"
      ]
    },
    {
      "cell_type": "markdown",
      "metadata": {
        "colab_type": "text",
        "id": "4C4mmIPNSuoD"
      },
      "source": [
        "<!-- * We have a hyposis here that the patients who have a lot of interactions during his/her stay at hospital tend to have a high risk of mortality. -->\n",
        "* The dataset for this task is the admission records joint with value counts of interactions/events happened during each admission.\n",
        "* Besides admission table, the related tables include labevents(Events relating to laboratory tests), microbiologyevents(Events relating to microbiology tests), callouts(Record of when patients were ready for discharge), inputevents(Events relating to fluid input for patients ), outputevents(Outputs recorded during the ICU stay), diagnosis(Diagnoses relating to a hospital admission coded using the ICD9 system), transfers(Location of patients during their hospital stay), cptevents(Events recorded in Current Procedural Terminology)\n",
        "* We first calculate the event counts from each related table, then link the results to the admission table. \n",
        "\n",
        "The SQL for doing so is below: (You can run it from your Bigquery console)\n",
        "The schema for reference https://mit-lcp.github.io/mimic-schema-spy/\n",
        "\n",
        "\n",
        "``` SQL\n",
        "WITH \n",
        "callout as (select HADM_ID, count(HADM_ID) as CALLOUT_COUNT from  `physionet-data.mimiciii_clinical.callout` group by HADM_ID),\n",
        "diags as (select HADM_ID, count(HADM_ID) as DIAG_COUNT from `physionet-data.mimiciii_clinical.diagnoses_icd` group by HADM_ID),\n",
        "preps as (select HADM_ID, count(HADM_ID) as PRES_COUNT from `physionet-data.mimiciii_clinical.prescriptions` group by HADM_ID),\n",
        "procs as (select HADM_ID, count(HADM_ID) as PROC_COUNT from `physionet-data.mimiciii_clinical.procedures_icd` group by HADM_ID),\n",
        "cpts as (select HADM_ID, count(HADM_ID) as CPT_COUNT from `physionet-data.mimiciii_clinical.cptevents` group by HADM_ID),\n",
        "labs as (select HADM_ID, count(HADM_ID) as LAB_COUNT from `physionet-data.mimiciii_clinical.labevents` group by HADM_ID),\n",
        "inputs_cv as (select HADM_ID, count(HADM_ID) as INPUTS_CV_COUNT from `physionet-data.mimiciii_clinical.inputevents_cv` group by HADM_ID),\n",
        "inputs_mv as (select HADM_ID, count(HADM_ID) as INPUTS_MV_COUNT from `physionet-data.mimiciii_clinical.inputevents_mv` group by HADM_ID),\n",
        "outputs as (select HADM_ID, count(HADM_ID) as OUTPUT_COUNT from `physionet-data.mimiciii_clinical.outputevents` group by HADM_ID),\n",
        "transfers as (select HADM_ID, count(HADM_ID) as TRANSFER_COUNT from `physionet-data.mimiciii_clinical.transfers` group by HADM_ID),\n",
        "micros as (select HADM_ID, count(HADM_ID) as MICRO_COUNT from `physionet-data.mimiciii_clinical.microbiologyevents` group by HADM_ID)\n",
        "SELECT adm.SUBJECT_ID, adm.HADM_ID, adm.ADMISSION_TYPE,adm.ADMITTIME, adm.DISCHTIME,adm.DEATHTIME, adm.DIAGNOSIS, adm.MARITAL_STATUS,adm.INSURANCE, adm.LANGUAGE, adm.RELIGION, adm.ETHNICITY,pts.GENDER, pts.DOB, stays.LOS, callout.CALLOUT_COUNT, diags.DIAG_COUNT,preps.PRES_COUNT,procs.PROC_COUNT,cpts.CPT_COUNT, labs.LAB_COUNT, inputs_cv.INPUTS_CV_COUNT, inputs_mv.INPUTS_MV_COUNT, outputs.OUTPUT_COUNT, transfers.TRANSFER_COUNT, micros.MICRO_COUNT\n",
        "FROM `physionet-data.mimiciii_clinical.admissions` as adm\n",
        "left join `physionet-data.mimiciii_clinical.patients` as pts on adm.SUBJECT_ID = pts.SUBJECT_ID\n",
        "left join `physionet-data.mimiciii_clinical.icustays` as stays on adm.HADM_ID = stays.HADM_ID\n",
        "left join callout on adm.HADM_ID = callout.HADM_ID\n",
        "left join diags on adm.HADM_ID = diags.HADM_ID\n",
        "left join preps on adm.HADM_ID = preps.HADM_ID\n",
        "left join procs on adm.HADM_ID = procs.HADM_ID\n",
        "left join cpts on adm.HADM_ID = cpts.HADM_ID\n",
        "left join labs on adm.HADM_ID = labs.HADM_ID\n",
        "left join inputs_cv on adm.HADM_ID = inputs_cv.HADM_ID\n",
        "left join inputs_mv on adm.HADM_ID = inputs_mv.HADM_ID\n",
        "left join outputs on adm.HADM_ID = outputs.HADM_ID\n",
        "left join transfers on adm.HADM_ID = transfers.HADM_ID\n",
        "left join micros on adm.HADM_ID = micros.HADM_ID\n",
        "```"
      ]
    },
    {
      "cell_type": "markdown",
      "metadata": {
        "colab_type": "text",
        "id": "XQEMdjid5Mmi"
      },
      "source": [
        "The results have been saved at  https://github.com/niuguy/digithealthcourse/blob/master/csvs/mimic-mortality.csv  \n",
        "we can load it into Pandas dataframe for analysis."
      ]
    },
    {
      "cell_type": "code",
      "metadata": {
        "id": "_2VYBdGjvdCg",
        "colab_type": "code",
        "outputId": "e0ea6fc2-4800-4c6c-8075-2c570c9a3e1a",
        "colab": {
          "base_uri": "https://localhost:8080/",
          "height": 122
        }
      },
      "source": [
        "from google.colab import drive\n",
        "drive.mount('/content/drive')"
      ],
      "execution_count": 0,
      "outputs": [
        {
          "output_type": "stream",
          "text": [
            "Go to this URL in a browser: https://accounts.google.com/o/oauth2/auth?client_id=947318989803-6bn6qk8qdgf4n4g3pfee6491hc0brc4i.apps.googleusercontent.com&redirect_uri=urn%3aietf%3awg%3aoauth%3a2.0%3aoob&response_type=code&scope=email%20https%3a%2f%2fwww.googleapis.com%2fauth%2fdocs.test%20https%3a%2f%2fwww.googleapis.com%2fauth%2fdrive%20https%3a%2f%2fwww.googleapis.com%2fauth%2fdrive.photos.readonly%20https%3a%2f%2fwww.googleapis.com%2fauth%2fpeopleapi.readonly\n",
            "\n",
            "Enter your authorization code:\n",
            "··········\n",
            "Mounted at /content/drive\n"
          ],
          "name": "stdout"
        }
      ]
    },
    {
      "cell_type": "code",
      "metadata": {
        "colab_type": "code",
        "id": "fVzzV3dVpgYT",
        "colab": {}
      },
      "source": [
        "import pandas as pd\n",
        "import numpy as np\n",
        "import seaborn as sns\n",
        "import matplotlib.pyplot as plt\n",
        "from sklearn.model_selection import train_test_split\n",
        "from sklearn.linear_model import LogisticRegression\n",
        "from sklearn.svm import SVC, LinearSVC\n",
        "from sklearn.ensemble import RandomForestClassifier\n",
        "from sklearn.neighbors import KNeighborsClassifier\n",
        "from sklearn.naive_bayes import GaussianNB\n",
        "from sklearn.linear_model import SGDClassifier\n",
        "from sklearn.tree import DecisionTreeClassifier\n",
        "from xgboost import XGBClassifier\n",
        "from xgboost import plot_importance\n",
        "from sklearn.metrics import classification_report\n",
        "from sklearn.metrics import plot_confusion_matrix\n",
        "from sklearn.metrics import f1_score\n",
        "\n",
        "%matplotlib inline"
      ],
      "execution_count": 0,
      "outputs": []
    },
    {
      "cell_type": "code",
      "metadata": {
        "colab_type": "code",
        "id": "Cgqd-uh6odxB",
        "colab": {}
      },
      "source": [
        "df_m3 = pd.read_csv('/content/drive/My Drive/Colab Notebooks/bq-results-20200212-103045-ose0m5jaxgto/bq-results-20200212-103045-ose0m5jaxgto.csv')"
      ],
      "execution_count": 0,
      "outputs": []
    },
    {
      "cell_type": "markdown",
      "metadata": {
        "colab_type": "text",
        "id": "1tITZMvD8pcJ"
      },
      "source": [
        "Check the first 5 rows with head() \n",
        "\n"
      ]
    },
    {
      "cell_type": "code",
      "metadata": {
        "colab_type": "code",
        "id": "w1ueeVgJ2vWS",
        "outputId": "e965f0f7-7cea-4e73-94bd-f52fff8a3857",
        "colab": {
          "base_uri": "https://localhost:8080/",
          "height": 394
        }
      },
      "source": [
        "df_m3.head()"
      ],
      "execution_count": 0,
      "outputs": [
        {
          "output_type": "execute_result",
          "data": {
            "text/html": [
              "<div>\n",
              "<style scoped>\n",
              "    .dataframe tbody tr th:only-of-type {\n",
              "        vertical-align: middle;\n",
              "    }\n",
              "\n",
              "    .dataframe tbody tr th {\n",
              "        vertical-align: top;\n",
              "    }\n",
              "\n",
              "    .dataframe thead th {\n",
              "        text-align: right;\n",
              "    }\n",
              "</style>\n",
              "<table border=\"1\" class=\"dataframe\">\n",
              "  <thead>\n",
              "    <tr style=\"text-align: right;\">\n",
              "      <th></th>\n",
              "      <th>SUBJECT_ID</th>\n",
              "      <th>HADM_ID</th>\n",
              "      <th>ADMISSION_TYPE</th>\n",
              "      <th>ADMITTIME</th>\n",
              "      <th>DISCHTIME</th>\n",
              "      <th>DEATHTIME</th>\n",
              "      <th>DIAGNOSIS</th>\n",
              "      <th>MARITAL_STATUS</th>\n",
              "      <th>INSURANCE</th>\n",
              "      <th>LANGUAGE</th>\n",
              "      <th>RELIGION</th>\n",
              "      <th>ETHNICITY</th>\n",
              "      <th>GENDER</th>\n",
              "      <th>DOB</th>\n",
              "      <th>LOS</th>\n",
              "      <th>CALLOUT_COUNT</th>\n",
              "      <th>DIAG_COUNT</th>\n",
              "      <th>PRES_COUNT</th>\n",
              "      <th>PROC_COUNT</th>\n",
              "      <th>CPT_COUNT</th>\n",
              "      <th>LAB_COUNT</th>\n",
              "      <th>INPUTS_CV_COUNT</th>\n",
              "      <th>INPUTS_MV_COUNT</th>\n",
              "      <th>OUTPUT_COUNT</th>\n",
              "      <th>TRANSFER_COUNT</th>\n",
              "      <th>MICRO_COUNT</th>\n",
              "    </tr>\n",
              "  </thead>\n",
              "  <tbody>\n",
              "    <tr>\n",
              "      <th>0</th>\n",
              "      <td>7275</td>\n",
              "      <td>136809</td>\n",
              "      <td>EMERGENCY</td>\n",
              "      <td>2139-08-28 12:35:00</td>\n",
              "      <td>2139-09-01 16:32:00</td>\n",
              "      <td>NaN</td>\n",
              "      <td>ALTERED MENTAL STATUS; DYSPNEA</td>\n",
              "      <td>DIVORCED</td>\n",
              "      <td>Medicare</td>\n",
              "      <td>ENGL</td>\n",
              "      <td>EPISCOPALIAN</td>\n",
              "      <td>WHITE</td>\n",
              "      <td>M</td>\n",
              "      <td>2078-11-11 00:00:00</td>\n",
              "      <td>1.3848</td>\n",
              "      <td>1.0</td>\n",
              "      <td>15</td>\n",
              "      <td>44.0</td>\n",
              "      <td>1.0</td>\n",
              "      <td>7.0</td>\n",
              "      <td>182.0</td>\n",
              "      <td>NaN</td>\n",
              "      <td>18.0</td>\n",
              "      <td>NaN</td>\n",
              "      <td>3</td>\n",
              "      <td>47.0</td>\n",
              "    </tr>\n",
              "    <tr>\n",
              "      <th>1</th>\n",
              "      <td>17575</td>\n",
              "      <td>187131</td>\n",
              "      <td>EMERGENCY</td>\n",
              "      <td>2124-10-21 08:32:00</td>\n",
              "      <td>2124-11-01 11:14:00</td>\n",
              "      <td>NaN</td>\n",
              "      <td>MVA;TRAUMA</td>\n",
              "      <td>SINGLE</td>\n",
              "      <td>Government</td>\n",
              "      <td>NaN</td>\n",
              "      <td>OTHER</td>\n",
              "      <td>BLACK/AFRICAN AMERICAN</td>\n",
              "      <td>M</td>\n",
              "      <td>2106-01-23 00:00:00</td>\n",
              "      <td>3.2653</td>\n",
              "      <td>NaN</td>\n",
              "      <td>9</td>\n",
              "      <td>NaN</td>\n",
              "      <td>9.0</td>\n",
              "      <td>NaN</td>\n",
              "      <td>408.0</td>\n",
              "      <td>331.0</td>\n",
              "      <td>NaN</td>\n",
              "      <td>89.0</td>\n",
              "      <td>3</td>\n",
              "      <td>27.0</td>\n",
              "    </tr>\n",
              "    <tr>\n",
              "      <th>2</th>\n",
              "      <td>25251</td>\n",
              "      <td>142346</td>\n",
              "      <td>EMERGENCY</td>\n",
              "      <td>2167-01-23 16:23:00</td>\n",
              "      <td>2167-02-06 13:53:00</td>\n",
              "      <td>NaN</td>\n",
              "      <td>INFECTED RIGHT FOOT</td>\n",
              "      <td>DIVORCED</td>\n",
              "      <td>Medicare</td>\n",
              "      <td>NaN</td>\n",
              "      <td>EPISCOPALIAN</td>\n",
              "      <td>WHITE</td>\n",
              "      <td>M</td>\n",
              "      <td>2096-08-27 00:00:00</td>\n",
              "      <td>3.2458</td>\n",
              "      <td>NaN</td>\n",
              "      <td>9</td>\n",
              "      <td>NaN</td>\n",
              "      <td>8.0</td>\n",
              "      <td>NaN</td>\n",
              "      <td>574.0</td>\n",
              "      <td>390.0</td>\n",
              "      <td>NaN</td>\n",
              "      <td>90.0</td>\n",
              "      <td>6</td>\n",
              "      <td>46.0</td>\n",
              "    </tr>\n",
              "    <tr>\n",
              "      <th>3</th>\n",
              "      <td>32339</td>\n",
              "      <td>181355</td>\n",
              "      <td>EMERGENCY</td>\n",
              "      <td>2110-07-29 23:56:00</td>\n",
              "      <td>2110-08-04 15:10:00</td>\n",
              "      <td>NaN</td>\n",
              "      <td>GASTROINTESTINAL BLEED;CHEST PAIN;TELEMETRY</td>\n",
              "      <td>MARRIED</td>\n",
              "      <td>Medicare</td>\n",
              "      <td>ENGL</td>\n",
              "      <td>JEWISH</td>\n",
              "      <td>WHITE</td>\n",
              "      <td>M</td>\n",
              "      <td>1810-07-29 00:00:00</td>\n",
              "      <td>1.7603</td>\n",
              "      <td>1.0</td>\n",
              "      <td>15</td>\n",
              "      <td>30.0</td>\n",
              "      <td>2.0</td>\n",
              "      <td>8.0</td>\n",
              "      <td>207.0</td>\n",
              "      <td>NaN</td>\n",
              "      <td>21.0</td>\n",
              "      <td>20.0</td>\n",
              "      <td>4</td>\n",
              "      <td>NaN</td>\n",
              "    </tr>\n",
              "    <tr>\n",
              "      <th>4</th>\n",
              "      <td>30746</td>\n",
              "      <td>155603</td>\n",
              "      <td>EMERGENCY</td>\n",
              "      <td>2131-08-22 23:07:00</td>\n",
              "      <td>2131-08-28 13:10:00</td>\n",
              "      <td>NaN</td>\n",
              "      <td>ALTERED MENTAL STATUS</td>\n",
              "      <td>DIVORCED</td>\n",
              "      <td>Medicare</td>\n",
              "      <td>ENGL</td>\n",
              "      <td>JEWISH</td>\n",
              "      <td>WHITE</td>\n",
              "      <td>M</td>\n",
              "      <td>2055-03-16 00:00:00</td>\n",
              "      <td>5.5894</td>\n",
              "      <td>NaN</td>\n",
              "      <td>22</td>\n",
              "      <td>53.0</td>\n",
              "      <td>6.0</td>\n",
              "      <td>10.0</td>\n",
              "      <td>378.0</td>\n",
              "      <td>165.0</td>\n",
              "      <td>NaN</td>\n",
              "      <td>115.0</td>\n",
              "      <td>7</td>\n",
              "      <td>5.0</td>\n",
              "    </tr>\n",
              "  </tbody>\n",
              "</table>\n",
              "</div>"
            ],
            "text/plain": [
              "   SUBJECT_ID  HADM_ID  ... TRANSFER_COUNT MICRO_COUNT\n",
              "0        7275   136809  ...              3        47.0\n",
              "1       17575   187131  ...              3        27.0\n",
              "2       25251   142346  ...              6        46.0\n",
              "3       32339   181355  ...              4         NaN\n",
              "4       30746   155603  ...              7         5.0\n",
              "\n",
              "[5 rows x 26 columns]"
            ]
          },
          "metadata": {
            "tags": []
          },
          "execution_count": 11
        }
      ]
    },
    {
      "cell_type": "markdown",
      "metadata": {
        "colab_type": "text",
        "id": "Bk-CGrY_qyKv"
      },
      "source": [
        "We have a bunch of columns , if we'd like to look at them closely, we can use .columns"
      ]
    },
    {
      "cell_type": "code",
      "metadata": {
        "colab_type": "code",
        "id": "3bPI186A8vzv",
        "outputId": "e4c84c1b-b88a-4b1a-e445-0e5d98b5addc",
        "colab": {
          "base_uri": "https://localhost:8080/",
          "height": 136
        }
      },
      "source": [
        "df_m3.columns"
      ],
      "execution_count": 0,
      "outputs": [
        {
          "output_type": "execute_result",
          "data": {
            "text/plain": [
              "Index(['SUBJECT_ID', 'HADM_ID', 'ADMISSION_TYPE', 'ADMITTIME', 'DISCHTIME',\n",
              "       'DEATHTIME', 'DIAGNOSIS', 'MARITAL_STATUS', 'INSURANCE', 'LANGUAGE',\n",
              "       'RELIGION', 'ETHNICITY', 'GENDER', 'DOB', 'LOS', 'CALLOUT_COUNT',\n",
              "       'DIAG_COUNT', 'PRES_COUNT', 'PROC_COUNT', 'CPT_COUNT', 'LAB_COUNT',\n",
              "       'INPUTS_CV_COUNT', 'INPUTS_MV_COUNT', 'OUTPUT_COUNT', 'TRANSFER_COUNT',\n",
              "       'MICRO_COUNT'],\n",
              "      dtype='object')"
            ]
          },
          "metadata": {
            "tags": []
          },
          "execution_count": 12
        }
      ]
    },
    {
      "cell_type": "markdown",
      "metadata": {
        "colab_type": "text",
        "id": "VQiGao9KrKwZ"
      },
      "source": [
        "We could print the general information of this dataframe"
      ]
    },
    {
      "cell_type": "markdown",
      "metadata": {
        "colab_type": "text",
        "id": "wwVYXxxaX9p7"
      },
      "source": [
        ""
      ]
    },
    {
      "cell_type": "code",
      "metadata": {
        "colab_type": "code",
        "id": "yDTdPxAYr-Ab",
        "outputId": "17bc410b-6826-4bee-ac6e-5ce1ea09481c",
        "colab": {
          "base_uri": "https://localhost:8080/",
          "height": 544
        }
      },
      "source": [
        "df_m3.info()"
      ],
      "execution_count": 0,
      "outputs": [
        {
          "output_type": "stream",
          "text": [
            "<class 'pandas.core.frame.DataFrame'>\n",
            "RangeIndex: 62722 entries, 0 to 62721\n",
            "Data columns (total 26 columns):\n",
            "SUBJECT_ID         62722 non-null int64\n",
            "HADM_ID            62722 non-null int64\n",
            "ADMISSION_TYPE     62722 non-null object\n",
            "ADMITTIME          62722 non-null object\n",
            "DISCHTIME          62722 non-null object\n",
            "DEATHTIME          6650 non-null object\n",
            "DIAGNOSIS          62697 non-null object\n",
            "MARITAL_STATUS     52344 non-null object\n",
            "INSURANCE          62722 non-null object\n",
            "LANGUAGE           36032 non-null object\n",
            "RELIGION           62240 non-null object\n",
            "ETHNICITY          62722 non-null object\n",
            "GENDER             62722 non-null object\n",
            "DOB                62722 non-null object\n",
            "LOS                61522 non-null float64\n",
            "CALLOUT_COUNT      31356 non-null float64\n",
            "DIAG_COUNT         62722 non-null int64\n",
            "PRES_COUNT         53659 non-null float64\n",
            "PROC_COUNT         55921 non-null float64\n",
            "CPT_COUNT          47588 non-null float64\n",
            "LAB_COUNT          61878 non-null float64\n",
            "INPUTS_CV_COUNT    34072 non-null float64\n",
            "INPUTS_MV_COUNT    23476 non-null float64\n",
            "OUTPUT_COUNT       55635 non-null float64\n",
            "TRANSFER_COUNT     62722 non-null int64\n",
            "MICRO_COUNT        52371 non-null float64\n",
            "dtypes: float64(10), int64(4), object(12)\n",
            "memory usage: 12.4+ MB\n"
          ],
          "name": "stdout"
        }
      ]
    },
    {
      "cell_type": "markdown",
      "metadata": {
        "colab_type": "text",
        "id": "rYxPIEMmOdKi"
      },
      "source": [
        "We could inspect the missing values "
      ]
    },
    {
      "cell_type": "code",
      "metadata": {
        "colab_type": "code",
        "id": "H1I16ZGOO49k",
        "outputId": "31f967cd-7db3-4a18-bdf6-3947d5391505",
        "colab": {
          "base_uri": "https://localhost:8080/",
          "height": 476
        }
      },
      "source": [
        "df_m3.isna().sum()"
      ],
      "execution_count": 0,
      "outputs": [
        {
          "output_type": "execute_result",
          "data": {
            "text/plain": [
              "SUBJECT_ID             0\n",
              "HADM_ID                0\n",
              "ADMISSION_TYPE         0\n",
              "ADMITTIME              0\n",
              "DISCHTIME              0\n",
              "DEATHTIME          56072\n",
              "DIAGNOSIS             25\n",
              "MARITAL_STATUS     10378\n",
              "INSURANCE              0\n",
              "LANGUAGE           26690\n",
              "RELIGION             482\n",
              "ETHNICITY              0\n",
              "GENDER                 0\n",
              "DOB                    0\n",
              "LOS                 1200\n",
              "CALLOUT_COUNT      31366\n",
              "DIAG_COUNT             0\n",
              "PRES_COUNT          9063\n",
              "PROC_COUNT          6801\n",
              "CPT_COUNT          15134\n",
              "LAB_COUNT            844\n",
              "INPUTS_CV_COUNT    28650\n",
              "INPUTS_MV_COUNT    39246\n",
              "OUTPUT_COUNT        7087\n",
              "TRANSFER_COUNT         0\n",
              "MICRO_COUNT        10351\n",
              "dtype: int64"
            ]
          },
          "metadata": {
            "tags": []
          },
          "execution_count": 14
        }
      ]
    },
    {
      "cell_type": "markdown",
      "metadata": {
        "colab_type": "text",
        "id": "9RxWjDNByaYQ"
      },
      "source": [
        "## Data Preprocessing "
      ]
    },
    {
      "cell_type": "markdown",
      "metadata": {
        "colab_type": "text",
        "id": "iLfzSYFtu_zy"
      },
      "source": [
        "* Add the target label that signifies whether a patient is death or not\n",
        "* Create necessary new features\n",
        "* Normalize the count values\n",
        "* Filling the missing values(if applicable)"
      ]
    },
    {
      "cell_type": "markdown",
      "metadata": {
        "colab_type": "text",
        "id": "Sy7l2wKx8VCL"
      },
      "source": [
        "### Data labeling . (#Creating)\n",
        "\n",
        "We'd like to add a 0/1 label to mark a patient is mortal or not. We can calculate it from 'Deathtime'.\n",
        "\n",
        "\n"
      ]
    },
    {
      "cell_type": "code",
      "metadata": {
        "colab_type": "code",
        "id": "bePRvFoovXb-",
        "outputId": "6aabc98d-e1b9-4367-bdd3-0070cce830cb",
        "colab": {
          "base_uri": "https://localhost:8080/",
          "height": 34
        }
      },
      "source": [
        "df_m3['DEATHTIME'].notna().sum()"
      ],
      "execution_count": 0,
      "outputs": [
        {
          "output_type": "execute_result",
          "data": {
            "text/plain": [
              "6650"
            ]
          },
          "metadata": {
            "tags": []
          },
          "execution_count": 15
        }
      ]
    },
    {
      "cell_type": "code",
      "metadata": {
        "colab_type": "code",
        "id": "yg9zzrGB72fk",
        "colab": {}
      },
      "source": [
        "df_m3.loc[:,'MORTAL']=np.where(pd.notna(df_m3['DEATHTIME']), 1, 0)"
      ],
      "execution_count": 0,
      "outputs": []
    },
    {
      "cell_type": "code",
      "metadata": {
        "colab_type": "code",
        "id": "tVrmp3X31lD_",
        "outputId": "a039e172-8e39-4eb9-b36b-02ce2ac0a7fa",
        "colab": {
          "base_uri": "https://localhost:8080/",
          "height": 394
        }
      },
      "source": [
        "df_m3.head()"
      ],
      "execution_count": 0,
      "outputs": [
        {
          "output_type": "execute_result",
          "data": {
            "text/html": [
              "<div>\n",
              "<style scoped>\n",
              "    .dataframe tbody tr th:only-of-type {\n",
              "        vertical-align: middle;\n",
              "    }\n",
              "\n",
              "    .dataframe tbody tr th {\n",
              "        vertical-align: top;\n",
              "    }\n",
              "\n",
              "    .dataframe thead th {\n",
              "        text-align: right;\n",
              "    }\n",
              "</style>\n",
              "<table border=\"1\" class=\"dataframe\">\n",
              "  <thead>\n",
              "    <tr style=\"text-align: right;\">\n",
              "      <th></th>\n",
              "      <th>SUBJECT_ID</th>\n",
              "      <th>HADM_ID</th>\n",
              "      <th>ADMISSION_TYPE</th>\n",
              "      <th>ADMITTIME</th>\n",
              "      <th>DISCHTIME</th>\n",
              "      <th>DEATHTIME</th>\n",
              "      <th>DIAGNOSIS</th>\n",
              "      <th>MARITAL_STATUS</th>\n",
              "      <th>INSURANCE</th>\n",
              "      <th>LANGUAGE</th>\n",
              "      <th>RELIGION</th>\n",
              "      <th>ETHNICITY</th>\n",
              "      <th>GENDER</th>\n",
              "      <th>DOB</th>\n",
              "      <th>LOS</th>\n",
              "      <th>CALLOUT_COUNT</th>\n",
              "      <th>DIAG_COUNT</th>\n",
              "      <th>PRES_COUNT</th>\n",
              "      <th>PROC_COUNT</th>\n",
              "      <th>CPT_COUNT</th>\n",
              "      <th>LAB_COUNT</th>\n",
              "      <th>INPUTS_CV_COUNT</th>\n",
              "      <th>INPUTS_MV_COUNT</th>\n",
              "      <th>OUTPUT_COUNT</th>\n",
              "      <th>TRANSFER_COUNT</th>\n",
              "      <th>MICRO_COUNT</th>\n",
              "      <th>MORTAL</th>\n",
              "    </tr>\n",
              "  </thead>\n",
              "  <tbody>\n",
              "    <tr>\n",
              "      <th>0</th>\n",
              "      <td>7275</td>\n",
              "      <td>136809</td>\n",
              "      <td>EMERGENCY</td>\n",
              "      <td>2139-08-28 12:35:00</td>\n",
              "      <td>2139-09-01 16:32:00</td>\n",
              "      <td>NaN</td>\n",
              "      <td>ALTERED MENTAL STATUS; DYSPNEA</td>\n",
              "      <td>DIVORCED</td>\n",
              "      <td>Medicare</td>\n",
              "      <td>ENGL</td>\n",
              "      <td>EPISCOPALIAN</td>\n",
              "      <td>WHITE</td>\n",
              "      <td>M</td>\n",
              "      <td>2078-11-11 00:00:00</td>\n",
              "      <td>1.3848</td>\n",
              "      <td>1.0</td>\n",
              "      <td>15</td>\n",
              "      <td>44.0</td>\n",
              "      <td>1.0</td>\n",
              "      <td>7.0</td>\n",
              "      <td>182.0</td>\n",
              "      <td>NaN</td>\n",
              "      <td>18.0</td>\n",
              "      <td>NaN</td>\n",
              "      <td>3</td>\n",
              "      <td>47.0</td>\n",
              "      <td>0</td>\n",
              "    </tr>\n",
              "    <tr>\n",
              "      <th>1</th>\n",
              "      <td>17575</td>\n",
              "      <td>187131</td>\n",
              "      <td>EMERGENCY</td>\n",
              "      <td>2124-10-21 08:32:00</td>\n",
              "      <td>2124-11-01 11:14:00</td>\n",
              "      <td>NaN</td>\n",
              "      <td>MVA;TRAUMA</td>\n",
              "      <td>SINGLE</td>\n",
              "      <td>Government</td>\n",
              "      <td>NaN</td>\n",
              "      <td>OTHER</td>\n",
              "      <td>BLACK/AFRICAN AMERICAN</td>\n",
              "      <td>M</td>\n",
              "      <td>2106-01-23 00:00:00</td>\n",
              "      <td>3.2653</td>\n",
              "      <td>NaN</td>\n",
              "      <td>9</td>\n",
              "      <td>NaN</td>\n",
              "      <td>9.0</td>\n",
              "      <td>NaN</td>\n",
              "      <td>408.0</td>\n",
              "      <td>331.0</td>\n",
              "      <td>NaN</td>\n",
              "      <td>89.0</td>\n",
              "      <td>3</td>\n",
              "      <td>27.0</td>\n",
              "      <td>0</td>\n",
              "    </tr>\n",
              "    <tr>\n",
              "      <th>2</th>\n",
              "      <td>25251</td>\n",
              "      <td>142346</td>\n",
              "      <td>EMERGENCY</td>\n",
              "      <td>2167-01-23 16:23:00</td>\n",
              "      <td>2167-02-06 13:53:00</td>\n",
              "      <td>NaN</td>\n",
              "      <td>INFECTED RIGHT FOOT</td>\n",
              "      <td>DIVORCED</td>\n",
              "      <td>Medicare</td>\n",
              "      <td>NaN</td>\n",
              "      <td>EPISCOPALIAN</td>\n",
              "      <td>WHITE</td>\n",
              "      <td>M</td>\n",
              "      <td>2096-08-27 00:00:00</td>\n",
              "      <td>3.2458</td>\n",
              "      <td>NaN</td>\n",
              "      <td>9</td>\n",
              "      <td>NaN</td>\n",
              "      <td>8.0</td>\n",
              "      <td>NaN</td>\n",
              "      <td>574.0</td>\n",
              "      <td>390.0</td>\n",
              "      <td>NaN</td>\n",
              "      <td>90.0</td>\n",
              "      <td>6</td>\n",
              "      <td>46.0</td>\n",
              "      <td>0</td>\n",
              "    </tr>\n",
              "    <tr>\n",
              "      <th>3</th>\n",
              "      <td>32339</td>\n",
              "      <td>181355</td>\n",
              "      <td>EMERGENCY</td>\n",
              "      <td>2110-07-29 23:56:00</td>\n",
              "      <td>2110-08-04 15:10:00</td>\n",
              "      <td>NaN</td>\n",
              "      <td>GASTROINTESTINAL BLEED;CHEST PAIN;TELEMETRY</td>\n",
              "      <td>MARRIED</td>\n",
              "      <td>Medicare</td>\n",
              "      <td>ENGL</td>\n",
              "      <td>JEWISH</td>\n",
              "      <td>WHITE</td>\n",
              "      <td>M</td>\n",
              "      <td>1810-07-29 00:00:00</td>\n",
              "      <td>1.7603</td>\n",
              "      <td>1.0</td>\n",
              "      <td>15</td>\n",
              "      <td>30.0</td>\n",
              "      <td>2.0</td>\n",
              "      <td>8.0</td>\n",
              "      <td>207.0</td>\n",
              "      <td>NaN</td>\n",
              "      <td>21.0</td>\n",
              "      <td>20.0</td>\n",
              "      <td>4</td>\n",
              "      <td>NaN</td>\n",
              "      <td>0</td>\n",
              "    </tr>\n",
              "    <tr>\n",
              "      <th>4</th>\n",
              "      <td>30746</td>\n",
              "      <td>155603</td>\n",
              "      <td>EMERGENCY</td>\n",
              "      <td>2131-08-22 23:07:00</td>\n",
              "      <td>2131-08-28 13:10:00</td>\n",
              "      <td>NaN</td>\n",
              "      <td>ALTERED MENTAL STATUS</td>\n",
              "      <td>DIVORCED</td>\n",
              "      <td>Medicare</td>\n",
              "      <td>ENGL</td>\n",
              "      <td>JEWISH</td>\n",
              "      <td>WHITE</td>\n",
              "      <td>M</td>\n",
              "      <td>2055-03-16 00:00:00</td>\n",
              "      <td>5.5894</td>\n",
              "      <td>NaN</td>\n",
              "      <td>22</td>\n",
              "      <td>53.0</td>\n",
              "      <td>6.0</td>\n",
              "      <td>10.0</td>\n",
              "      <td>378.0</td>\n",
              "      <td>165.0</td>\n",
              "      <td>NaN</td>\n",
              "      <td>115.0</td>\n",
              "      <td>7</td>\n",
              "      <td>5.0</td>\n",
              "      <td>0</td>\n",
              "    </tr>\n",
              "  </tbody>\n",
              "</table>\n",
              "</div>"
            ],
            "text/plain": [
              "   SUBJECT_ID  HADM_ID ADMISSION_TYPE  ... TRANSFER_COUNT MICRO_COUNT MORTAL\n",
              "0        7275   136809      EMERGENCY  ...              3        47.0      0\n",
              "1       17575   187131      EMERGENCY  ...              3        27.0      0\n",
              "2       25251   142346      EMERGENCY  ...              6        46.0      0\n",
              "3       32339   181355      EMERGENCY  ...              4         NaN      0\n",
              "4       30746   155603      EMERGENCY  ...              7         5.0      0\n",
              "\n",
              "[5 rows x 27 columns]"
            ]
          },
          "metadata": {
            "tags": []
          },
          "execution_count": 17
        }
      ]
    },
    {
      "cell_type": "markdown",
      "metadata": {
        "colab_type": "text",
        "id": "xh3Wq9_DAGgm"
      },
      "source": [
        "### Age Calculation (#Creating)\n",
        "\n",
        "We don't have 'Age' column, but can we calculate it based on 'DOB'(Date of birth) and 'ADMITTIME'\n"
      ]
    },
    {
      "cell_type": "code",
      "metadata": {
        "colab_type": "code",
        "id": "rjvV9wkTDT3O",
        "colab": {}
      },
      "source": [
        "df_m3['ADMITTIME'] = pd.to_datetime(df_m3['ADMITTIME']).dt.date\n",
        "df_m3['DOB'] = pd.to_datetime(df_m3['DOB']).dt.date\n",
        "df_m3['AGE'] =(df_m3['ADMITTIME']-df_m3['DOB'])//365\n",
        "df_m3['AGE'] = pd.to_numeric(df_m3['AGE'].dt.days)"
      ],
      "execution_count": 0,
      "outputs": []
    },
    {
      "cell_type": "markdown",
      "metadata": {
        "colab_type": "text",
        "id": "2cCBK5bNQnIz"
      },
      "source": [
        "### Normalization(#Converting)\n",
        "The length of stays vary from patient to patient, it's necessary we transfer the count values into daily everage count values."
      ]
    },
    {
      "cell_type": "code",
      "metadata": {
        "colab_type": "code",
        "id": "ER2dqpCF3mAl",
        "colab": {}
      },
      "source": [
        "for col in ['DIAG_COUNT','PRES_COUNT','PROC_COUNT','CPT_COUNT','LAB_COUNT','INPUTS_CV_COUNT','INPUTS_MV_COUNT',\n",
        "            'OUTPUT_COUNT','TRANSFER_COUNT','MICRO_COUNT']:\n",
        "  df_m3[col]=round(df_m3[col]/np.ceil(df_m3['LOS']), 2)"
      ],
      "execution_count": 0,
      "outputs": []
    },
    {
      "cell_type": "markdown",
      "metadata": {
        "colab_type": "text",
        "id": "z2Z1Ai9gSWSy"
      },
      "source": [
        "**Q**: Can we use 'LOS' as one feature for mortality prediction?"
      ]
    },
    {
      "cell_type": "markdown",
      "metadata": {
        "colab_type": "text",
        "id": "PE1Ao1YcVsfo"
      },
      "source": [
        "### Filling missing values(#Completing)"
      ]
    },
    {
      "cell_type": "markdown",
      "metadata": {
        "colab_type": "text",
        "id": "86Vr10jJWUJN"
      },
      "source": [
        "#### Numerical features\n",
        "Regarding the numerical features, specifically the counting value features, we can simply fill the NaN value with 0(Why?)"
      ]
    },
    {
      "cell_type": "code",
      "metadata": {
        "colab_type": "code",
        "id": "uagGZqVsW7WG",
        "colab": {}
      },
      "source": [
        "for col in ['CALLOUT_COUNT','DIAG_COUNT','PRES_COUNT','PROC_COUNT','CPT_COUNT','LAB_COUNT','INPUTS_CV_COUNT','INPUTS_MV_COUNT',\n",
        "            'OUTPUT_COUNT','TRANSFER_COUNT','MICRO_COUNT']:\n",
        "            df_m3[col].fillna(0,inplace=True)"
      ],
      "execution_count": 0,
      "outputs": []
    },
    {
      "cell_type": "markdown",
      "metadata": {
        "id": "wL9si7BpxUNv",
        "colab_type": "text"
      },
      "source": [
        ""
      ]
    },
    {
      "cell_type": "markdown",
      "metadata": {
        "id": "i2XlA_00LM-Y",
        "colab_type": "text"
      },
      "source": [
        "#### Categorical values\n",
        "MARITAL_STATUS"
      ]
    },
    {
      "cell_type": "code",
      "metadata": {
        "id": "G_T_FZi7LQYZ",
        "colab_type": "code",
        "outputId": "61b28f68-8601-4184-9372-b0cdae5c6bf8",
        "colab": {
          "base_uri": "https://localhost:8080/",
          "height": 153
        }
      },
      "source": [
        "#MARITAL_STATUS\n",
        "df_m3.MARITAL_STATUS.value_counts()"
      ],
      "execution_count": 0,
      "outputs": [
        {
          "output_type": "execute_result",
          "data": {
            "text/plain": [
              "MARRIED              26031\n",
              "SINGLE               14161\n",
              "WIDOWED               7687\n",
              "DIVORCED              3462\n",
              "SEPARATED              613\n",
              "UNKNOWN (DEFAULT)      374\n",
              "LIFE PARTNER            16\n",
              "Name: MARITAL_STATUS, dtype: int64"
            ]
          },
          "metadata": {
            "tags": []
          },
          "execution_count": 21
        }
      ]
    },
    {
      "cell_type": "code",
      "metadata": {
        "id": "jGyIZ50JM-Tn",
        "colab_type": "code",
        "colab": {}
      },
      "source": [
        "# Fill na with the default value\n",
        "df_m3.MARITAL_STATUS.fillna('UNKNOWN (DEFAULT)', inplace=True)"
      ],
      "execution_count": 0,
      "outputs": []
    },
    {
      "cell_type": "markdown",
      "metadata": {
        "id": "9Zz41vGLwccg",
        "colab_type": "text"
      },
      "source": [
        "LANGUAGE"
      ]
    },
    {
      "cell_type": "code",
      "metadata": {
        "id": "bo9Yk8y6NbFu",
        "colab_type": "code",
        "outputId": "3ffc6d7b-7904-4ad7-9fb9-a96fb31958d0",
        "colab": {
          "base_uri": "https://localhost:8080/",
          "height": 221
        }
      },
      "source": [
        "df_m3.LANGUAGE.value_counts()"
      ],
      "execution_count": 0,
      "outputs": [
        {
          "output_type": "execute_result",
          "data": {
            "text/plain": [
              "ENGL    31138\n",
              "SPAN     1156\n",
              "RUSS      852\n",
              "PTUN      678\n",
              "CANT      439\n",
              "        ...  \n",
              "*NEP        1\n",
              "*TAM        1\n",
              "*PUN        1\n",
              "*YOR        1\n",
              "** T        1\n",
              "Name: LANGUAGE, Length: 75, dtype: int64"
            ]
          },
          "metadata": {
            "tags": []
          },
          "execution_count": 21
        }
      ]
    },
    {
      "cell_type": "code",
      "metadata": {
        "id": "TtjQkrTrOAw7",
        "colab_type": "code",
        "colab": {}
      },
      "source": [
        "# We fill it with the most frequent value\n",
        "df_m3.LANGUAGE.fillna('ENGL', inplace=True)"
      ],
      "execution_count": 0,
      "outputs": []
    },
    {
      "cell_type": "markdown",
      "metadata": {
        "id": "6mgB4Bpywmdp",
        "colab_type": "text"
      },
      "source": [
        "RELIGION"
      ]
    },
    {
      "cell_type": "code",
      "metadata": {
        "id": "y44yD-OFOHR-",
        "colab_type": "code",
        "outputId": "859e7282-8067-4be2-c95f-57cb36e1f8f0",
        "colab": {
          "base_uri": "https://localhost:8080/",
          "height": 374
        }
      },
      "source": [
        "df_m3.RELIGION.value_counts()"
      ],
      "execution_count": 0,
      "outputs": [
        {
          "output_type": "execute_result",
          "data": {
            "text/plain": [
              "CATHOLIC                  22058\n",
              "NOT SPECIFIED             12409\n",
              "UNOBTAINABLE               8596\n",
              "PROTESTANT QUAKER          7710\n",
              "JEWISH                     5674\n",
              "OTHER                      2867\n",
              "EPISCOPALIAN                820\n",
              "GREEK ORTHODOX              487\n",
              "CHRISTIAN SCIENTIST         456\n",
              "BUDDHIST                    290\n",
              "MUSLIM                      244\n",
              "JEHOVAH'S WITNESS           146\n",
              "UNITARIAN-UNIVERSALIST      132\n",
              "HINDU                       116\n",
              "ROMANIAN EAST. ORTH          93\n",
              "7TH DAY ADVENTIST            86\n",
              "BAPTIST                      29\n",
              "HEBREW                       18\n",
              "METHODIST                     8\n",
              "LUTHERAN                      1\n",
              "Name: RELIGION, dtype: int64"
            ]
          },
          "metadata": {
            "tags": []
          },
          "execution_count": 26
        }
      ]
    },
    {
      "cell_type": "code",
      "metadata": {
        "id": "xF4ST1_lwwKf",
        "colab_type": "code",
        "colab": {}
      },
      "source": [
        "df_m3.RELIGION.fillna('NOT SPECIFIED', inplace=True)"
      ],
      "execution_count": 0,
      "outputs": []
    },
    {
      "cell_type": "markdown",
      "metadata": {
        "id": "hiX6kCEIH0ZE",
        "colab_type": "text"
      },
      "source": [
        "### Label encoding"
      ]
    },
    {
      "cell_type": "code",
      "metadata": {
        "id": "Y8hyuByOIRjp",
        "colab_type": "code",
        "colab": {}
      },
      "source": [
        "from sklearn.preprocessing import LabelEncoder\n",
        "\n",
        "labelencoder = LabelEncoder()"
      ],
      "execution_count": 0,
      "outputs": []
    },
    {
      "cell_type": "code",
      "metadata": {
        "id": "eK6vsVp6ITtF",
        "colab_type": "code",
        "colab": {}
      },
      "source": [
        "for label in ['ADMISSION_TYPE', 'MARITAL_STATUS', 'INSURANCE', 'LANGUAGE', 'RELIGION', 'ETHNICITY', 'GENDER']:\n",
        "  df_m3[label]=labelencoder.fit_transform(df_m3[label])"
      ],
      "execution_count": 0,
      "outputs": []
    },
    {
      "cell_type": "markdown",
      "metadata": {
        "id": "AdIOG_1xm9yq",
        "colab_type": "text"
      },
      "source": [
        "One-hot encoding\n",
        "\n",
        "1  0 0\n",
        "0  1 0 \n",
        "0  0 1"
      ]
    },
    {
      "cell_type": "markdown",
      "metadata": {
        "colab_type": "text",
        "id": "QpXZL_9NV0FL"
      },
      "source": [
        "### Save the processed results \n",
        "\n",
        "In case we lost the connection"
      ]
    },
    {
      "cell_type": "markdown",
      "metadata": {
        "colab_type": "text",
        "id": "lNvuMo_rXlzc"
      },
      "source": [
        "Check if everything is OK "
      ]
    },
    {
      "cell_type": "code",
      "metadata": {
        "colab_type": "code",
        "id": "VCiQ2SXgq_1L",
        "outputId": "736c24a7-fcc0-4fb2-a56b-9cb7fb1fbc5a",
        "colab": {
          "base_uri": "https://localhost:8080/",
          "height": 326
        }
      },
      "source": [
        "df_m3.head()"
      ],
      "execution_count": 0,
      "outputs": [
        {
          "output_type": "execute_result",
          "data": {
            "text/html": [
              "<div>\n",
              "<style scoped>\n",
              "    .dataframe tbody tr th:only-of-type {\n",
              "        vertical-align: middle;\n",
              "    }\n",
              "\n",
              "    .dataframe tbody tr th {\n",
              "        vertical-align: top;\n",
              "    }\n",
              "\n",
              "    .dataframe thead th {\n",
              "        text-align: right;\n",
              "    }\n",
              "</style>\n",
              "<table border=\"1\" class=\"dataframe\">\n",
              "  <thead>\n",
              "    <tr style=\"text-align: right;\">\n",
              "      <th></th>\n",
              "      <th>SUBJECT_ID</th>\n",
              "      <th>HADM_ID</th>\n",
              "      <th>ADMISSION_TYPE</th>\n",
              "      <th>ADMITTIME</th>\n",
              "      <th>DISCHTIME</th>\n",
              "      <th>DEATHTIME</th>\n",
              "      <th>DIAGNOSIS</th>\n",
              "      <th>MARITAL_STATUS</th>\n",
              "      <th>INSURANCE</th>\n",
              "      <th>LANGUAGE</th>\n",
              "      <th>RELIGION</th>\n",
              "      <th>ETHNICITY</th>\n",
              "      <th>GENDER</th>\n",
              "      <th>DOB</th>\n",
              "      <th>LOS</th>\n",
              "      <th>CALLOUT_COUNT</th>\n",
              "      <th>DIAG_COUNT</th>\n",
              "      <th>PRES_COUNT</th>\n",
              "      <th>PROC_COUNT</th>\n",
              "      <th>CPT_COUNT</th>\n",
              "      <th>LAB_COUNT</th>\n",
              "      <th>INPUTS_CV_COUNT</th>\n",
              "      <th>INPUTS_MV_COUNT</th>\n",
              "      <th>OUTPUT_COUNT</th>\n",
              "      <th>TRANSFER_COUNT</th>\n",
              "      <th>MICRO_COUNT</th>\n",
              "      <th>MORTAL</th>\n",
              "      <th>AGE</th>\n",
              "    </tr>\n",
              "  </thead>\n",
              "  <tbody>\n",
              "    <tr>\n",
              "      <th>0</th>\n",
              "      <td>7275</td>\n",
              "      <td>136809</td>\n",
              "      <td>1</td>\n",
              "      <td>2139-08-28</td>\n",
              "      <td>2139-09-01 16:32:00</td>\n",
              "      <td>NaN</td>\n",
              "      <td>ALTERED MENTAL STATUS; DYSPNEA</td>\n",
              "      <td>0</td>\n",
              "      <td>2</td>\n",
              "      <td>50</td>\n",
              "      <td>5</td>\n",
              "      <td>36</td>\n",
              "      <td>1</td>\n",
              "      <td>2078-11-11</td>\n",
              "      <td>1.3848</td>\n",
              "      <td>1.0</td>\n",
              "      <td>7.50</td>\n",
              "      <td>22.00</td>\n",
              "      <td>0.50</td>\n",
              "      <td>3.50</td>\n",
              "      <td>91.0</td>\n",
              "      <td>0.00</td>\n",
              "      <td>9.0</td>\n",
              "      <td>0.00</td>\n",
              "      <td>1.50</td>\n",
              "      <td>23.50</td>\n",
              "      <td>0</td>\n",
              "      <td>60</td>\n",
              "    </tr>\n",
              "    <tr>\n",
              "      <th>1</th>\n",
              "      <td>17575</td>\n",
              "      <td>187131</td>\n",
              "      <td>1</td>\n",
              "      <td>2124-10-21</td>\n",
              "      <td>2124-11-01 11:14:00</td>\n",
              "      <td>NaN</td>\n",
              "      <td>MVA;TRAUMA</td>\n",
              "      <td>4</td>\n",
              "      <td>0</td>\n",
              "      <td>50</td>\n",
              "      <td>15</td>\n",
              "      <td>13</td>\n",
              "      <td>1</td>\n",
              "      <td>2106-01-23</td>\n",
              "      <td>3.2653</td>\n",
              "      <td>0.0</td>\n",
              "      <td>2.25</td>\n",
              "      <td>0.00</td>\n",
              "      <td>2.25</td>\n",
              "      <td>0.00</td>\n",
              "      <td>102.0</td>\n",
              "      <td>82.75</td>\n",
              "      <td>0.0</td>\n",
              "      <td>22.25</td>\n",
              "      <td>0.75</td>\n",
              "      <td>6.75</td>\n",
              "      <td>0</td>\n",
              "      <td>18</td>\n",
              "    </tr>\n",
              "    <tr>\n",
              "      <th>2</th>\n",
              "      <td>25251</td>\n",
              "      <td>142346</td>\n",
              "      <td>1</td>\n",
              "      <td>2167-01-23</td>\n",
              "      <td>2167-02-06 13:53:00</td>\n",
              "      <td>NaN</td>\n",
              "      <td>INFECTED RIGHT FOOT</td>\n",
              "      <td>0</td>\n",
              "      <td>2</td>\n",
              "      <td>50</td>\n",
              "      <td>5</td>\n",
              "      <td>36</td>\n",
              "      <td>1</td>\n",
              "      <td>2096-08-27</td>\n",
              "      <td>3.2458</td>\n",
              "      <td>0.0</td>\n",
              "      <td>2.25</td>\n",
              "      <td>0.00</td>\n",
              "      <td>2.00</td>\n",
              "      <td>0.00</td>\n",
              "      <td>143.5</td>\n",
              "      <td>97.50</td>\n",
              "      <td>0.0</td>\n",
              "      <td>22.50</td>\n",
              "      <td>1.50</td>\n",
              "      <td>11.50</td>\n",
              "      <td>0</td>\n",
              "      <td>70</td>\n",
              "    </tr>\n",
              "    <tr>\n",
              "      <th>3</th>\n",
              "      <td>32339</td>\n",
              "      <td>181355</td>\n",
              "      <td>1</td>\n",
              "      <td>2110-07-29</td>\n",
              "      <td>2110-08-04 15:10:00</td>\n",
              "      <td>NaN</td>\n",
              "      <td>GASTROINTESTINAL BLEED;CHEST PAIN;TELEMETRY</td>\n",
              "      <td>2</td>\n",
              "      <td>2</td>\n",
              "      <td>50</td>\n",
              "      <td>10</td>\n",
              "      <td>36</td>\n",
              "      <td>1</td>\n",
              "      <td>1810-07-29</td>\n",
              "      <td>1.7603</td>\n",
              "      <td>1.0</td>\n",
              "      <td>7.50</td>\n",
              "      <td>15.00</td>\n",
              "      <td>1.00</td>\n",
              "      <td>4.00</td>\n",
              "      <td>103.5</td>\n",
              "      <td>0.00</td>\n",
              "      <td>10.5</td>\n",
              "      <td>10.00</td>\n",
              "      <td>2.00</td>\n",
              "      <td>0.00</td>\n",
              "      <td>0</td>\n",
              "      <td>300</td>\n",
              "    </tr>\n",
              "    <tr>\n",
              "      <th>4</th>\n",
              "      <td>30746</td>\n",
              "      <td>155603</td>\n",
              "      <td>1</td>\n",
              "      <td>2131-08-22</td>\n",
              "      <td>2131-08-28 13:10:00</td>\n",
              "      <td>NaN</td>\n",
              "      <td>ALTERED MENTAL STATUS</td>\n",
              "      <td>0</td>\n",
              "      <td>2</td>\n",
              "      <td>50</td>\n",
              "      <td>10</td>\n",
              "      <td>36</td>\n",
              "      <td>1</td>\n",
              "      <td>2055-03-16</td>\n",
              "      <td>5.5894</td>\n",
              "      <td>0.0</td>\n",
              "      <td>3.67</td>\n",
              "      <td>8.83</td>\n",
              "      <td>1.00</td>\n",
              "      <td>1.67</td>\n",
              "      <td>63.0</td>\n",
              "      <td>27.50</td>\n",
              "      <td>0.0</td>\n",
              "      <td>19.17</td>\n",
              "      <td>1.17</td>\n",
              "      <td>0.83</td>\n",
              "      <td>0</td>\n",
              "      <td>76</td>\n",
              "    </tr>\n",
              "  </tbody>\n",
              "</table>\n",
              "</div>"
            ],
            "text/plain": [
              "   SUBJECT_ID  HADM_ID  ADMISSION_TYPE  ... MICRO_COUNT MORTAL  AGE\n",
              "0        7275   136809               1  ...       23.50      0   60\n",
              "1       17575   187131               1  ...        6.75      0   18\n",
              "2       25251   142346               1  ...       11.50      0   70\n",
              "3       32339   181355               1  ...        0.00      0  300\n",
              "4       30746   155603               1  ...        0.83      0   76\n",
              "\n",
              "[5 rows x 28 columns]"
            ]
          },
          "metadata": {
            "tags": []
          },
          "execution_count": 31
        }
      ]
    },
    {
      "cell_type": "markdown",
      "metadata": {
        "colab_type": "text",
        "id": "flNB8Z13Xr7K"
      },
      "source": [
        "Save the result to 'df_m3.csv' with to_csv()"
      ]
    },
    {
      "cell_type": "code",
      "metadata": {
        "colab_type": "code",
        "id": "bgQ3OnAiCeGU",
        "colab": {}
      },
      "source": [
        "df_m3.to_csv('df_m3.csv',index=False)"
      ],
      "execution_count": 0,
      "outputs": []
    },
    {
      "cell_type": "markdown",
      "metadata": {
        "colab_type": "text",
        "id": "tSoE-QBr7F3w"
      },
      "source": [
        "## Features exploratory analysis\n",
        "\n"
      ]
    },
    {
      "cell_type": "markdown",
      "metadata": {
        "colab_type": "text",
        "id": "WH6hGrZk5rVL"
      },
      "source": [
        "Let's look at the features closely"
      ]
    },
    {
      "cell_type": "code",
      "metadata": {
        "colab_type": "code",
        "id": "EzXhqri-_yuB",
        "outputId": "417a8eaa-d2e9-48a6-e195-86565335cbd0",
        "colab": {
          "base_uri": "https://localhost:8080/",
          "height": 136
        }
      },
      "source": [
        "df_m3.columns.values"
      ],
      "execution_count": 0,
      "outputs": [
        {
          "output_type": "execute_result",
          "data": {
            "text/plain": [
              "array(['SUBJECT_ID', 'HADM_ID', 'ADMISSION_TYPE', 'ADMITTIME',\n",
              "       'DISCHTIME', 'DEATHTIME', 'DIAGNOSIS', 'MARITAL_STATUS',\n",
              "       'INSURANCE', 'LANGUAGE', 'RELIGION', 'ETHNICITY', 'GENDER', 'DOB',\n",
              "       'LOS', 'CALLOUT_COUNT', 'DIAG_COUNT', 'PRES_COUNT', 'PROC_COUNT',\n",
              "       'CPT_COUNT', 'LAB_COUNT', 'INPUTS_CV_COUNT', 'INPUTS_MV_COUNT',\n",
              "       'OUTPUT_COUNT', 'TRANSFER_COUNT', 'MICRO_COUNT', 'AGE', 'MORTAL'],\n",
              "      dtype=object)"
            ]
          },
          "metadata": {
            "tags": []
          },
          "execution_count": 37
        }
      ]
    },
    {
      "cell_type": "markdown",
      "metadata": {
        "colab_type": "text",
        "id": "rBdClTbs4Htm"
      },
      "source": [
        "**Which features are (Text)Categorical**\n",
        "\n",
        "These values classify the samples into sets of similar samples. Within categorical features are the values nominal, ordinal, ratio, or interval based? Among other things this helps us select the appropriate plots for visualization.\n",
        "\n",
        "Categorical: ADMISSION_TYPE, INSURANCE, LANGUAGE, RELIGION, MARITAL_STATUS, ETHNICITY, GENDER\n",
        "Text: ADMISSION_LOCATION, DISCHARGE_LOCATION, DIAGNOSIS\n",
        "\n",
        "**Which features are numerical?** \n",
        "\n",
        "These values change from sample to sample. Within numerical features are the values discrete, continuous, or timeseries based? Among other things this helps us select the appropriate plots for visualization.\n",
        "\n",
        "Continous: callout_count, diag_count,prep_count, proc_count, cpt_count, lab_count,inputs_cv_count, inputs_mv_count, output_count, transfer_count, micro_count\n",
        "\n"
      ]
    },
    {
      "cell_type": "code",
      "metadata": {
        "colab_type": "code",
        "id": "-QHuUj-K8XDf",
        "colab": {}
      },
      "source": [
        "df_m3 = pd.read_csv('df_m3.csv')"
      ],
      "execution_count": 0,
      "outputs": []
    },
    {
      "cell_type": "markdown",
      "metadata": {
        "colab_type": "text",
        "id": "SRVqupHsyuTs"
      },
      "source": [
        "### Features exploration analysis\n",
        "\n"
      ]
    },
    {
      "cell_type": "markdown",
      "metadata": {
        "id": "yNbyTEwHyUZM",
        "colab_type": "text"
      },
      "source": [
        "### Target distribution"
      ]
    },
    {
      "cell_type": "code",
      "metadata": {
        "id": "umiGwQu5yY3D",
        "colab_type": "code",
        "outputId": "773a89b8-7853-4dcb-9aad-18da9fe2fb2c",
        "colab": {
          "base_uri": "https://localhost:8080/",
          "height": 68
        }
      },
      "source": [
        "df_m3['MORTAL'].value_counts()"
      ],
      "execution_count": 0,
      "outputs": [
        {
          "output_type": "execute_result",
          "data": {
            "text/plain": [
              "0    53906\n",
              "1     6060\n",
              "Name: MORTAL, dtype: int64"
            ]
          },
          "metadata": {
            "tags": []
          },
          "execution_count": 34
        }
      ]
    },
    {
      "cell_type": "markdown",
      "metadata": {
        "id": "vc2RKlWhyntc",
        "colab_type": "text"
      },
      "source": [
        "The mortality rate is 6650/(56072+6650) = 0.106      "
      ]
    },
    {
      "cell_type": "markdown",
      "metadata": {
        "colab_type": "text",
        "id": "XQNlwZFceLhP"
      },
      "source": [
        "### Categorical features"
      ]
    },
    {
      "cell_type": "markdown",
      "metadata": {
        "colab_type": "text",
        "id": "27K19drdCzry"
      },
      "source": [
        "**Gender**\n",
        "\n"
      ]
    },
    {
      "cell_type": "code",
      "metadata": {
        "colab_type": "code",
        "id": "8B5Rt0jtETHW",
        "outputId": "5c03f730-6108-45e6-f1b5-a5943efcead2",
        "colab": {
          "base_uri": "https://localhost:8080/",
          "height": 68
        }
      },
      "source": [
        "df_m3['GENDER'].value_counts()"
      ],
      "execution_count": 0,
      "outputs": [
        {
          "output_type": "execute_result",
          "data": {
            "text/plain": [
              "M    35121\n",
              "F    27601\n",
              "Name: GENDER, dtype: int64"
            ]
          },
          "metadata": {
            "tags": []
          },
          "execution_count": 32
        }
      ]
    },
    {
      "cell_type": "markdown",
      "metadata": {
        "colab_type": "text",
        "id": "alCT7O6pMH6W"
      },
      "source": [
        "The mean mortal value of each gender group"
      ]
    },
    {
      "cell_type": "code",
      "metadata": {
        "colab_type": "code",
        "id": "T4D3zMRXEf8Q",
        "outputId": "986f4150-4474-4bf4-e940-b921ed01e134",
        "colab": {
          "base_uri": "https://localhost:8080/",
          "height": 111
        }
      },
      "source": [
        "df_m3[['GENDER', 'MORTAL']].groupby(['GENDER'], as_index=False).mean().sort_values(by='MORTAL', ascending=False)"
      ],
      "execution_count": 0,
      "outputs": [
        {
          "output_type": "execute_result",
          "data": {
            "text/html": [
              "<div>\n",
              "<style scoped>\n",
              "    .dataframe tbody tr th:only-of-type {\n",
              "        vertical-align: middle;\n",
              "    }\n",
              "\n",
              "    .dataframe tbody tr th {\n",
              "        vertical-align: top;\n",
              "    }\n",
              "\n",
              "    .dataframe thead th {\n",
              "        text-align: right;\n",
              "    }\n",
              "</style>\n",
              "<table border=\"1\" class=\"dataframe\">\n",
              "  <thead>\n",
              "    <tr style=\"text-align: right;\">\n",
              "      <th></th>\n",
              "      <th>GENDER</th>\n",
              "      <th>MORTAL</th>\n",
              "    </tr>\n",
              "  </thead>\n",
              "  <tbody>\n",
              "    <tr>\n",
              "      <th>0</th>\n",
              "      <td>F</td>\n",
              "      <td>0.109199</td>\n",
              "    </tr>\n",
              "    <tr>\n",
              "      <th>1</th>\n",
              "      <td>M</td>\n",
              "      <td>0.103528</td>\n",
              "    </tr>\n",
              "  </tbody>\n",
              "</table>\n",
              "</div>"
            ],
            "text/plain": [
              "  GENDER    MORTAL\n",
              "0      F  0.109199\n",
              "1      M  0.103528"
            ]
          },
          "metadata": {
            "tags": []
          },
          "execution_count": 38
        }
      ]
    },
    {
      "cell_type": "markdown",
      "metadata": {
        "colab_type": "text",
        "id": "cnuDHwKLOxk7"
      },
      "source": [
        "Bar plots of the mean mortality rate values of each group(#Correlating)"
      ]
    },
    {
      "cell_type": "code",
      "metadata": {
        "colab_type": "code",
        "id": "xEF5Jge3Ijjw",
        "outputId": "f4d8d29c-53a1-4ebf-ba5b-fd4d04eba27e",
        "colab": {
          "base_uri": "https://localhost:8080/",
          "height": 296
        }
      },
      "source": [
        "sns.barplot(x = 'GENDER', y = 'MORTAL', data=df_m3)"
      ],
      "execution_count": 0,
      "outputs": [
        {
          "output_type": "execute_result",
          "data": {
            "text/plain": [
              "<matplotlib.axes._subplots.AxesSubplot at 0x7f49687a00f0>"
            ]
          },
          "metadata": {
            "tags": []
          },
          "execution_count": 58
        },
        {
          "output_type": "display_data",
          "data": {
            "image/png": "[encoded data removed]",
            "text/plain": [
              "<Figure size 432x288 with 1 Axes>"
            ]
          },
          "metadata": {
            "tags": []
          }
        }
      ]
    },
    {
      "cell_type": "markdown",
      "metadata": {
        "colab_type": "text",
        "id": "7C6UF1ZbYexv"
      },
      "source": [
        "**ADMITTION_TYPE**"
      ]
    },
    {
      "cell_type": "code",
      "metadata": {
        "colab_type": "code",
        "id": "ZiRP0VtLYkwS",
        "outputId": "97277e41-ae1d-4f6e-e999-67795f963174",
        "colab": {
          "base_uri": "https://localhost:8080/",
          "height": 173
        }
      },
      "source": [
        "df_m3[['ADMISSION_TYPE', 'MORTAL']].groupby(['ADMISSION_TYPE'], as_index=False).mean().sort_values(by='MORTAL', ascending=False)"
      ],
      "execution_count": 0,
      "outputs": [
        {
          "output_type": "execute_result",
          "data": {
            "text/html": [
              "<div>\n",
              "<style scoped>\n",
              "    .dataframe tbody tr th:only-of-type {\n",
              "        vertical-align: middle;\n",
              "    }\n",
              "\n",
              "    .dataframe tbody tr th {\n",
              "        vertical-align: top;\n",
              "    }\n",
              "\n",
              "    .dataframe thead th {\n",
              "        text-align: right;\n",
              "    }\n",
              "</style>\n",
              "<table border=\"1\" class=\"dataframe\">\n",
              "  <thead>\n",
              "    <tr style=\"text-align: right;\">\n",
              "      <th></th>\n",
              "      <th>ADMISSION_TYPE</th>\n",
              "      <th>MORTAL</th>\n",
              "    </tr>\n",
              "  </thead>\n",
              "  <tbody>\n",
              "    <tr>\n",
              "      <th>1</th>\n",
              "      <td>EMERGENCY</td>\n",
              "      <td>0.136065</td>\n",
              "    </tr>\n",
              "    <tr>\n",
              "      <th>3</th>\n",
              "      <td>URGENT</td>\n",
              "      <td>0.126556</td>\n",
              "    </tr>\n",
              "    <tr>\n",
              "      <th>0</th>\n",
              "      <td>ELECTIVE</td>\n",
              "      <td>0.031458</td>\n",
              "    </tr>\n",
              "    <tr>\n",
              "      <th>2</th>\n",
              "      <td>NEWBORN</td>\n",
              "      <td>0.007778</td>\n",
              "    </tr>\n",
              "  </tbody>\n",
              "</table>\n",
              "</div>"
            ],
            "text/plain": [
              "  ADMISSION_TYPE    MORTAL\n",
              "1      EMERGENCY  0.136065\n",
              "3         URGENT  0.126556\n",
              "0       ELECTIVE  0.031458\n",
              "2        NEWBORN  0.007778"
            ]
          },
          "metadata": {
            "tags": []
          },
          "execution_count": 39
        }
      ]
    },
    {
      "cell_type": "code",
      "metadata": {
        "colab_type": "code",
        "id": "X8FDEY5-ZliU",
        "outputId": "a6ba2303-4f24-4ccd-a7fc-0b1a8d0d75e6",
        "colab": {
          "base_uri": "https://localhost:8080/",
          "height": 297
        }
      },
      "source": [
        "sns.barplot(x = 'ADMISSION_TYPE', y = 'MORTAL', data=df_m3)"
      ],
      "execution_count": 0,
      "outputs": [
        {
          "output_type": "execute_result",
          "data": {
            "text/plain": [
              "<matplotlib.axes._subplots.AxesSubplot at 0x7f4968525908>"
            ]
          },
          "metadata": {
            "tags": []
          },
          "execution_count": 64
        },
        {
          "output_type": "display_data",
          "data": {
            "image/png": "[encoded data removed]",
            "text/plain": [
              "<Figure size 432x288 with 1 Axes>"
            ]
          },
          "metadata": {
            "tags": []
          }
        }
      ]
    },
    {
      "cell_type": "markdown",
      "metadata": {
        "colab_type": "text",
        "id": "r2-ZLzvM75MZ"
      },
      "source": [
        "**MARITAL_STATUS**"
      ]
    },
    {
      "cell_type": "code",
      "metadata": {
        "colab_type": "code",
        "id": "t5W4WeGM7-6G",
        "outputId": "104d394e-3f95-4d2e-b1b5-9ac439fac127",
        "colab": {
          "base_uri": "https://localhost:8080/",
          "height": 266
        }
      },
      "source": [
        "df_m3[['MARITAL_STATUS', 'MORTAL']].groupby(['MARITAL_STATUS'], as_index=False).mean().sort_values(by='MORTAL', ascending=False)"
      ],
      "execution_count": 0,
      "outputs": [
        {
          "output_type": "execute_result",
          "data": {
            "text/html": [
              "<div>\n",
              "<style scoped>\n",
              "    .dataframe tbody tr th:only-of-type {\n",
              "        vertical-align: middle;\n",
              "    }\n",
              "\n",
              "    .dataframe tbody tr th {\n",
              "        vertical-align: top;\n",
              "    }\n",
              "\n",
              "    .dataframe thead th {\n",
              "        text-align: right;\n",
              "    }\n",
              "</style>\n",
              "<table border=\"1\" class=\"dataframe\">\n",
              "  <thead>\n",
              "    <tr style=\"text-align: right;\">\n",
              "      <th></th>\n",
              "      <th>MARITAL_STATUS</th>\n",
              "      <th>MORTAL</th>\n",
              "    </tr>\n",
              "  </thead>\n",
              "  <tbody>\n",
              "    <tr>\n",
              "      <th>5</th>\n",
              "      <td>UNKNOWN (DEFAULT)</td>\n",
              "      <td>0.192513</td>\n",
              "    </tr>\n",
              "    <tr>\n",
              "      <th>6</th>\n",
              "      <td>WIDOWED</td>\n",
              "      <td>0.152986</td>\n",
              "    </tr>\n",
              "    <tr>\n",
              "      <th>2</th>\n",
              "      <td>MARRIED</td>\n",
              "      <td>0.115862</td>\n",
              "    </tr>\n",
              "    <tr>\n",
              "      <th>0</th>\n",
              "      <td>DIVORCED</td>\n",
              "      <td>0.107741</td>\n",
              "    </tr>\n",
              "    <tr>\n",
              "      <th>3</th>\n",
              "      <td>SEPARATED</td>\n",
              "      <td>0.101142</td>\n",
              "    </tr>\n",
              "    <tr>\n",
              "      <th>4</th>\n",
              "      <td>SINGLE</td>\n",
              "      <td>0.088694</td>\n",
              "    </tr>\n",
              "    <tr>\n",
              "      <th>1</th>\n",
              "      <td>LIFE PARTNER</td>\n",
              "      <td>0.000000</td>\n",
              "    </tr>\n",
              "  </tbody>\n",
              "</table>\n",
              "</div>"
            ],
            "text/plain": [
              "      MARITAL_STATUS    MORTAL\n",
              "5  UNKNOWN (DEFAULT)  0.192513\n",
              "6            WIDOWED  0.152986\n",
              "2            MARRIED  0.115862\n",
              "0           DIVORCED  0.107741\n",
              "3          SEPARATED  0.101142\n",
              "4             SINGLE  0.088694\n",
              "1       LIFE PARTNER  0.000000"
            ]
          },
          "metadata": {
            "tags": []
          },
          "execution_count": 40
        }
      ]
    },
    {
      "cell_type": "code",
      "metadata": {
        "colab_type": "code",
        "id": "NJM6iLvb8j8y",
        "outputId": "d4f41d87-99d0-4152-ce7e-ab6487c3eff9",
        "colab": {
          "base_uri": "https://localhost:8080/",
          "height": 406
        }
      },
      "source": [
        "plt.figure(figsize=(8,6))\n",
        "sns.barplot(x = 'MARITAL_STATUS', y = 'MORTAL', data=df_m3)"
      ],
      "execution_count": 0,
      "outputs": [
        {
          "output_type": "execute_result",
          "data": {
            "text/plain": [
              "<matplotlib.axes._subplots.AxesSubplot at 0x7f574dfc0c50>"
            ]
          },
          "metadata": {
            "tags": []
          },
          "execution_count": 41
        },
        {
          "output_type": "display_data",
          "data": {
            "image/png": "[encoded data removed]",
            "text/plain": [
              "<Figure size 576x432 with 1 Axes>"
            ]
          },
          "metadata": {
            "tags": []
          }
        }
      ]
    },
    {
      "cell_type": "markdown",
      "metadata": {
        "colab_type": "text",
        "id": "F15Juf__QHGx"
      },
      "source": [
        "**Q**: According to the analysis, how should we deal with the missing(unknown) values? Shall we keep this feature at all?"
      ]
    },
    {
      "cell_type": "markdown",
      "metadata": {
        "colab_type": "text",
        "id": "jP1xZx_qO8yF"
      },
      "source": [
        "We can do multi-variable comparison (#Correlating)"
      ]
    },
    {
      "cell_type": "code",
      "metadata": {
        "colab_type": "code",
        "id": "SDlUYPW7PCvn",
        "outputId": "744f40ba-d643-474f-ed7d-51d24e554915",
        "colab": {
          "base_uri": "https://localhost:8080/",
          "height": 459
        }
      },
      "source": [
        "fig, qaxis = plt.subplots(1,2,figsize=(16,7))\n",
        "sns.barplot(x = 'GENDER', y = 'MORTAL', hue = 'INSURANCE', data=df_m3, ax = qaxis[0])\n",
        "# axis1.set_title('GENDER vs MARITAL_STATUS Mortal Comparison')\n",
        "\n",
        "sns.barplot(x = 'GENDER', y = 'MORTAL', hue = 'ADMISSION_TYPE', data=df_m3, ax  = qaxis[1])\n",
        "# axis1.set_title('Sex vs Pclass Survival Comparison')"
      ],
      "execution_count": 0,
      "outputs": [
        {
          "output_type": "execute_result",
          "data": {
            "text/plain": [
              "<matplotlib.axes._subplots.AxesSubplot at 0x7f574dbe61d0>"
            ]
          },
          "metadata": {
            "tags": []
          },
          "execution_count": 42
        },
        {
          "output_type": "display_data",
          "data": {
            "image/png": "[encoded data removed]",
            "text/plain": [
              "<Figure size 1152x504 with 2 Axes>"
            ]
          },
          "metadata": {
            "tags": []
          }
        }
      ]
    },
    {
      "cell_type": "markdown",
      "metadata": {
        "colab_type": "text",
        "id": "ayDAF4KOdjOL"
      },
      "source": [
        "### Numeric features\n",
        "\n",
        "#### Age"
      ]
    },
    {
      "cell_type": "code",
      "metadata": {
        "colab_type": "code",
        "id": "7nRLafP9U5y4",
        "colab": {}
      },
      "source": [
        "# We can save the the intermediate result \n",
        "df_m3=pd.read_csv('df_m3.csv')"
      ],
      "execution_count": 0,
      "outputs": []
    },
    {
      "cell_type": "code",
      "metadata": {
        "colab_type": "code",
        "id": "IfMIjGCYZO0r",
        "outputId": "454d83a1-549e-4a1e-b149-df811150dd9f",
        "colab": {
          "base_uri": "https://localhost:8080/",
          "height": 136
        }
      },
      "source": [
        "df_m3.columns"
      ],
      "execution_count": 0,
      "outputs": [
        {
          "output_type": "execute_result",
          "data": {
            "text/plain": [
              "Index(['SUBJECT_ID', 'HADM_ID', 'ADMISSION_TYPE', 'ADMITTIME', 'DISCHTIME',\n",
              "       'DEATHTIME', 'DIAGNOSIS', 'MARITAL_STATUS', 'INSURANCE', 'LANGUAGE',\n",
              "       'RELIGION', 'ETHNICITY', 'GENDER', 'DOB', 'LOS', 'CALLOUT_COUNT',\n",
              "       'DIAG_COUNT', 'PRES_COUNT', 'PROC_COUNT', 'CPT_COUNT', 'LAB_COUNT',\n",
              "       'INPUTS_CV_COUNT', 'INPUTS_MV_COUNT', 'OUTPUT_COUNT', 'TRANSFER_COUNT',\n",
              "       'MICRO_COUNT', 'AGE', 'MORTAL'],\n",
              "      dtype='object')"
            ]
          },
          "metadata": {
            "tags": []
          },
          "execution_count": 46
        }
      ]
    },
    {
      "cell_type": "markdown",
      "metadata": {
        "colab_type": "text",
        "id": "w69eHQw1U2wR"
      },
      "source": [
        ""
      ]
    },
    {
      "cell_type": "markdown",
      "metadata": {
        "colab_type": "text",
        "id": "qcLHdnlpVlQt"
      },
      "source": [
        "**Histgram plotting**\n",
        "\n",
        "A histogram is a graphical display of data using bars of different heights. In a histogram, each bar groups numbers into ranges. Taller bars show that more data falls in that range. A histogram displays the shape and spread of continuous sample data. "
      ]
    },
    {
      "cell_type": "code",
      "metadata": {
        "colab_type": "code",
        "id": "myx5kVQC-bZe",
        "outputId": "577dff7c-99ec-4b10-a59f-a57e242dae06",
        "colab": {
          "base_uri": "https://localhost:8080/",
          "height": 282
        }
      },
      "source": [
        "df_m3.AGE.hist()"
      ],
      "execution_count": 0,
      "outputs": [
        {
          "output_type": "execute_result",
          "data": {
            "text/plain": [
              "<matplotlib.axes._subplots.AxesSubplot at 0x7f574e88ecc0>"
            ]
          },
          "metadata": {
            "tags": []
          },
          "execution_count": 43
        },
        {
          "output_type": "display_data",
          "data": {
            "image/png": "[encoded data removed]",
            "text/plain": [
              "<Figure size 432x288 with 1 Axes>"
            ]
          },
          "metadata": {
            "tags": []
          }
        }
      ]
    },
    {
      "cell_type": "markdown",
      "metadata": {
        "colab_type": "text",
        "id": "4MxHnJgWUv4m"
      },
      "source": [
        "Clearly, there is an outlier which should be removed"
      ]
    },
    {
      "cell_type": "markdown",
      "metadata": {
        "colab_type": "text",
        "id": "4oaS5noQG_RV"
      },
      "source": [
        "**Boxplot**\n",
        "\n",
        "Boxplots are a standardized way of displaying the distribution of data based on a five number summary (“minimum”, first quartile (Q1), median, third quartile (Q3), and “maximum”).\n",
        "![alt text](https://miro.medium.com/max/18000/1*2c21SkzJMf3frPXPAR_gZA.png)"
      ]
    },
    {
      "cell_type": "code",
      "metadata": {
        "colab_type": "code",
        "id": "9RrFC5lqGzFj",
        "outputId": "6510f789-dad1-4661-cf60-4f8f3d629917",
        "colab": {
          "base_uri": "https://localhost:8080/",
          "height": 401
        }
      },
      "source": [
        "plt.boxplot(df_m3['AGE'], showmeans = True, meanline = True)"
      ],
      "execution_count": 0,
      "outputs": [
        {
          "output_type": "execute_result",
          "data": {
            "text/plain": [
              "{'boxes': [<matplotlib.lines.Line2D at 0x7f49675228d0>],\n",
              " 'caps': [<matplotlib.lines.Line2D at 0x7f49675311d0>,\n",
              "  <matplotlib.lines.Line2D at 0x7f4967531518>],\n",
              " 'fliers': [<matplotlib.lines.Line2D at 0x7f4967531ef0>],\n",
              " 'means': [<matplotlib.lines.Line2D at 0x7f4967531ba8>],\n",
              " 'medians': [<matplotlib.lines.Line2D at 0x7f4967531860>],\n",
              " 'whiskers': [<matplotlib.lines.Line2D at 0x7f4967522b00>,\n",
              "  <matplotlib.lines.Line2D at 0x7f4967522e48>]}"
            ]
          },
          "metadata": {
            "tags": []
          },
          "execution_count": 98
        },
        {
          "output_type": "display_data",
          "data": {
            "image/png": "[encoded data removed]",
            "text/plain": [
              "<Figure size 432x288 with 1 Axes>"
            ]
          },
          "metadata": {
            "tags": []
          }
        }
      ]
    },
    {
      "cell_type": "markdown",
      "metadata": {
        "colab_type": "text",
        "id": "6DYZP4tHNlbX"
      },
      "source": [
        "Remove the outlier(#Correcting)"
      ]
    },
    {
      "cell_type": "code",
      "metadata": {
        "colab_type": "code",
        "id": "q_8FgYRCZYl7",
        "outputId": "6ef3fa09-0244-4ff9-ad3b-44254e4af627",
        "colab": {
          "base_uri": "https://localhost:8080/",
          "height": 34
        }
      },
      "source": [
        "len(df_m3[df_m3['AGE']>120])"
      ],
      "execution_count": 0,
      "outputs": [
        {
          "output_type": "execute_result",
          "data": {
            "text/plain": [
              "2756"
            ]
          },
          "metadata": {
            "tags": []
          },
          "execution_count": 39
        }
      ]
    },
    {
      "cell_type": "code",
      "metadata": {
        "colab_type": "code",
        "id": "kQdLl3-8QMYZ",
        "colab": {}
      },
      "source": [
        "df_m3= df_m3[df_m3['AGE']<120]"
      ],
      "execution_count": 0,
      "outputs": []
    },
    {
      "cell_type": "code",
      "metadata": {
        "colab_type": "code",
        "id": "DDvQZNGBHQrO",
        "outputId": "eddcaf11-793e-4b18-c84c-c9175450ae89",
        "colab": {
          "base_uri": "https://localhost:8080/",
          "height": 282
        }
      },
      "source": [
        "df_m3.AGE.hist()"
      ],
      "execution_count": 0,
      "outputs": [
        {
          "output_type": "execute_result",
          "data": {
            "text/plain": [
              "<matplotlib.axes._subplots.AxesSubplot at 0x7f49674a77f0>"
            ]
          },
          "metadata": {
            "tags": []
          },
          "execution_count": 101
        },
        {
          "output_type": "display_data",
          "data": {
            "image/png": "[encoded data removed]",
            "text/plain": [
              "<Figure size 432x288 with 1 Axes>"
            ]
          },
          "metadata": {
            "tags": []
          }
        }
      ]
    },
    {
      "cell_type": "code",
      "metadata": {
        "colab_type": "code",
        "id": "eAOgGPrnWQoJ",
        "outputId": "e59ef698-7aa3-4fea-c782-c2580ac4f476",
        "colab": {
          "base_uri": "https://localhost:8080/",
          "height": 401
        }
      },
      "source": [
        "plt.boxplot(df_m3['AGE'], showmeans = True, meanline = True)"
      ],
      "execution_count": 0,
      "outputs": [
        {
          "output_type": "execute_result",
          "data": {
            "text/plain": [
              "{'boxes': [<matplotlib.lines.Line2D at 0x7f496750b6a0>],\n",
              " 'caps': [<matplotlib.lines.Line2D at 0x7f496750bef0>,\n",
              "  <matplotlib.lines.Line2D at 0x7f4967518278>],\n",
              " 'fliers': [<matplotlib.lines.Line2D at 0x7f4967518c50>],\n",
              " 'means': [<matplotlib.lines.Line2D at 0x7f4967518908>],\n",
              " 'medians': [<matplotlib.lines.Line2D at 0x7f49675185c0>],\n",
              " 'whiskers': [<matplotlib.lines.Line2D at 0x7f496750b7f0>,\n",
              "  <matplotlib.lines.Line2D at 0x7f496750bba8>]}"
            ]
          },
          "metadata": {
            "tags": []
          },
          "execution_count": 100
        },
        {
          "output_type": "display_data",
          "data": {
            "image/png": "[encoded data removed]",
            "text/plain": [
              "<Figure size 432x288 with 1 Axes>"
            ]
          },
          "metadata": {
            "tags": []
          }
        }
      ]
    },
    {
      "cell_type": "code",
      "metadata": {
        "colab_type": "code",
        "id": "Twt32UIsZ8c9",
        "outputId": "14c21675-c174-44da-c875-8e4bc408c98d",
        "colab": {
          "base_uri": "https://localhost:8080/",
          "height": 242
        }
      },
      "source": [
        "g = sns.FacetGrid(df_m3, col='MORTAL')\n",
        "g.map(plt.hist, 'AGE', bins=20)"
      ],
      "execution_count": 0,
      "outputs": [
        {
          "output_type": "execute_result",
          "data": {
            "text/plain": [
              "<seaborn.axisgrid.FacetGrid at 0x7f496a491b38>"
            ]
          },
          "metadata": {
            "tags": []
          },
          "execution_count": 19
        },
        {
          "output_type": "display_data",
          "data": {
            "image/png": "[encoded data removed]",
            "text/plain": [
              "<Figure size 432x216 with 2 Axes>"
            ]
          },
          "metadata": {
            "tags": []
          }
        }
      ]
    },
    {
      "cell_type": "markdown",
      "metadata": {
        "colab_type": "text",
        "id": "8mpdxE2RaV5G"
      },
      "source": [
        "**Q:** What conclusion can you get from the figure above? Shall we remove the infant patients(Age<1) from our training dataset?"
      ]
    },
    {
      "cell_type": "code",
      "metadata": {
        "id": "NcwWt84hzq9i",
        "colab_type": "code",
        "colab": {}
      },
      "source": [
        "df_m3 = df_m3[df_m3['AGE']>0]"
      ],
      "execution_count": 0,
      "outputs": []
    },
    {
      "cell_type": "markdown",
      "metadata": {
        "colab_type": "text",
        "id": "2aK0r-wwAThs"
      },
      "source": [
        "#### PROC_COUNT"
      ]
    },
    {
      "cell_type": "code",
      "metadata": {
        "colab_type": "code",
        "id": "YZrr9on-Aafz",
        "outputId": "976ab250-af61-40f6-b98a-1fcb36b0beaa",
        "colab": {
          "base_uri": "https://localhost:8080/",
          "height": 282
        }
      },
      "source": [
        "df_m3.PROC_COUNT.hist()"
      ],
      "execution_count": 0,
      "outputs": [
        {
          "output_type": "execute_result",
          "data": {
            "text/plain": [
              "<matplotlib.axes._subplots.AxesSubplot at 0x7f4967583e80>"
            ]
          },
          "metadata": {
            "tags": []
          },
          "execution_count": 94
        },
        {
          "output_type": "display_data",
          "data": {
            "image/png": "[encoded data removed]",
            "text/plain": [
              "<Figure size 432x288 with 1 Axes>"
            ]
          },
          "metadata": {
            "tags": []
          }
        }
      ]
    },
    {
      "cell_type": "code",
      "metadata": {
        "colab_type": "code",
        "id": "DmgjGXgyGkRK",
        "outputId": "a5d45d26-3f4d-4f99-89d1-27c34f489243",
        "colab": {
          "base_uri": "https://localhost:8080/",
          "height": 242
        }
      },
      "source": [
        "g = sns.FacetGrid(df_m3, col='MORTAL')\n",
        "g.map(plt.hist, 'PROC_COUNT', bins=20)"
      ],
      "execution_count": 0,
      "outputs": [
        {
          "output_type": "execute_result",
          "data": {
            "text/plain": [
              "<seaborn.axisgrid.FacetGrid at 0x7f4966f48e10>"
            ]
          },
          "metadata": {
            "tags": []
          },
          "execution_count": 97
        },
        {
          "output_type": "display_data",
          "data": {
            "image/png": "[encoded data removed]",
            "text/plain": [
              "<Figure size 432x216 with 2 Axes>"
            ]
          },
          "metadata": {
            "tags": []
          }
        }
      ]
    },
    {
      "cell_type": "code",
      "metadata": {
        "id": "NPHjehvr0EEP",
        "colab_type": "code",
        "colab": {}
      },
      "source": [
        "df_m3.to_csv('df_m3_processed.csv', index=False)"
      ],
      "execution_count": 0,
      "outputs": []
    },
    {
      "cell_type": "markdown",
      "metadata": {
        "id": "JdnL-K_blExs",
        "colab_type": "text"
      },
      "source": [
        "### Target distribution in all numerical features"
      ]
    },
    {
      "cell_type": "code",
      "metadata": {
        "id": "a4_NJIAIlgE5",
        "colab_type": "code",
        "colab": {
          "base_uri": "https://localhost:8080/",
          "height": 51
        },
        "outputId": "6d2411f5-b115-402c-e839-602e5baa55ab"
      },
      "source": [
        "df_m3 = pd.read_csv('df_m3_processed.csv')"
      ],
      "execution_count": 2,
      "outputs": [
        {
          "output_type": "stream",
          "text": [
            "/usr/local/lib/python3.6/dist-packages/IPython/core/interactiveshell.py:2718: DtypeWarning: Columns (5) have mixed types. Specify dtype option on import or set low_memory=False.\n",
            "  interactivity=interactivity, compiler=compiler, result=result)\n"
          ],
          "name": "stderr"
        }
      ]
    },
    {
      "cell_type": "markdown",
      "metadata": {
        "id": "7_U2QrkCb00K",
        "colab_type": "text"
      },
      "source": [
        "seaboran.displot() = histgram + kde(kernal density estimate) + rugplot"
      ]
    },
    {
      "cell_type": "code",
      "metadata": {
        "id": "aH6wxvbdlYW5",
        "colab_type": "code",
        "colab": {
          "base_uri": "https://localhost:8080/",
          "height": 1000
        },
        "outputId": "a38406bd-33d5-4c02-917f-d69d0c227077"
      },
      "source": [
        "METAFEATURES = ['CALLOUT_COUNT',\n",
        "       'DIAG_COUNT', 'PRES_COUNT', 'PROC_COUNT', 'CPT_COUNT', 'LAB_COUNT',\n",
        "       'INPUTS_CV_COUNT', 'INPUTS_MV_COUNT', 'OUTPUT_COUNT', 'TRANSFER_COUNT',\n",
        "       'MICRO_COUNT', 'AGE']\n",
        "MORTALS = df_m3['MORTAL'] == 1\n",
        "\n",
        "fig, axes = plt.subplots(ncols=3, nrows=len(METAFEATURES)//3, figsize=(15, 20), dpi=100)\n",
        "\n",
        "for i, feature in enumerate(METAFEATURES):\n",
        "  row = i//3\n",
        "  col = i%3\n",
        "  sns.distplot(df_m3.loc[~MORTALS][feature], label='Not Mortal', ax=axes[row][col], color='green')\n",
        "  sns.distplot(df_m3.loc[MORTALS][feature], label='Mortal', ax=axes[row][col], color='red')\n",
        "\n",
        "  axes[row][col].set_xlabel('')\n",
        "  axes[row][col].tick_params(axis='x', labelsize=12)\n",
        "  axes[row][col].tick_params(axis='y', labelsize=12)\n",
        "  axes[row][col].legend()\n",
        "    \n",
        "  axes[row][col].set_title(feature)\n",
        "  axes[row][col].set_title(feature)\n",
        "\n",
        "plt.show()"
      ],
      "execution_count": 10,
      "outputs": [
        {
          "output_type": "display_data",
          "data": {
            "image/png": "[encoded data removed]",
            "text/plain": [
              "<Figure size 1500x2000 with 12 Axes>"
            ]
          },
          "metadata": {
            "tags": []
          }
        }
      ]
    }
  ]
}

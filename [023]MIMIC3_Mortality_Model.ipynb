{
  "nbformat": 4,
  "nbformat_minor": 0,
  "metadata": {
    "colab": {
      "name": "[023]MIMIC3-Mortality-Model.ipynb",
      "provenance": [],
      "collapsed_sections": [],
      "include_colab_link": true
    },
    "kernelspec": {
      "name": "python3",
      "display_name": "Python 3"
    }
  },
  "cells": [
    {
      "cell_type": "markdown",
      "metadata": {
        "id": "view-in-github",
        "colab_type": "text"
      },
      "source": [
        "<a href=\"https://colab.research.google.com/github/niuguy/digithealthcourse/blob/master/%5B023%5DMIMIC3_Mortality_Model.ipynb\" target=\"_parent\"><img src=\"https://colab.research.google.com/assets/colab-badge.svg\" alt=\"Open In Colab\"/></a>"
      ]
    },
    {
      "cell_type": "markdown",
      "metadata": {
        "id": "WgonFreImaac",
        "colab_type": "text"
      },
      "source": [
        "## What is machine learning"
      ]
    },
    {
      "cell_type": "markdown",
      "metadata": {
        "id": "9cMq1Uuamgag",
        "colab_type": "text"
      },
      "source": [
        "![machine learning](https://github.com/niuguy/digithealthcourse/blob/master/pics/Programming%20and%20Machine%20learning.png?raw=true)"
      ]
    },
    {
      "cell_type": "markdown",
      "metadata": {
        "id": "h3O_1wUlstOS",
        "colab_type": "text"
      },
      "source": [
        "## The pipeline\n",
        "\n",
        "![Ml_pipeline](https://github.com/niuguy/digithealthcourse/blob/master/pics/ML_pipeline.png?raw=true)"
      ]
    },
    {
      "cell_type": "markdown",
      "metadata": {
        "id": "ezywv3y4tISR",
        "colab_type": "text"
      },
      "source": [
        "## Case study for mortality prediction"
      ]
    },
    {
      "cell_type": "code",
      "metadata": {
        "colab_type": "code",
        "id": "fVzzV3dVpgYT",
        "colab": {}
      },
      "source": [
        "import pandas as pd\n",
        "import numpy as np\n",
        "import seaborn as sns\n",
        "import matplotlib.pyplot as plt\n",
        "from sklearn.model_selection import train_test_split\n",
        "from sklearn.linear_model import LogisticRegression\n",
        "from sklearn.svm import SVC, LinearSVC\n",
        "from sklearn.ensemble import RandomForestClassifier\n",
        "from sklearn.neighbors import KNeighborsClassifier\n",
        "from sklearn.naive_bayes import GaussianNB\n",
        "from sklearn.linear_model import SGDClassifier\n",
        "from sklearn.tree import DecisionTreeClassifier\n",
        "from xgboost import XGBClassifier\n",
        "from xgboost import plot_importance\n",
        "from sklearn.metrics import classification_report\n",
        "from sklearn.metrics import plot_confusion_matrix\n",
        "from sklearn.metrics import f1_score\n",
        "from sklearn.preprocessing import MinMaxScaler\n",
        "\n",
        "%matplotlib inline"
      ],
      "execution_count": 0,
      "outputs": []
    },
    {
      "cell_type": "markdown",
      "metadata": {
        "id": "ZBOtRBkhUYki",
        "colab_type": "text"
      },
      "source": [
        "### Train Test Split"
      ]
    },
    {
      "cell_type": "code",
      "metadata": {
        "id": "WuRnOdoWpbvm",
        "colab_type": "code",
        "colab": {
          "base_uri": "https://localhost:8080/",
          "height": 122
        },
        "outputId": "921764d0-cf0e-4267-96ce-81cf0924d540"
      },
      "source": [
        "from google.colab import drive\n",
        "drive.mount('/content/drive')"
      ],
      "execution_count": 2,
      "outputs": [
        {
          "output_type": "stream",
          "text": [
            "Go to this URL in a browser: https://accounts.google.com/o/oauth2/auth?client_id=947318989803-6bn6qk8qdgf4n4g3pfee6491hc0brc4i.apps.googleusercontent.com&redirect_uri=urn%3aietf%3awg%3aoauth%3a2.0%3aoob&response_type=code&scope=email%20https%3a%2f%2fwww.googleapis.com%2fauth%2fdocs.test%20https%3a%2f%2fwww.googleapis.com%2fauth%2fdrive%20https%3a%2f%2fwww.googleapis.com%2fauth%2fdrive.photos.readonly%20https%3a%2f%2fwww.googleapis.com%2fauth%2fpeopleapi.readonly\n",
            "\n",
            "Enter your authorization code:\n",
            "··········\n",
            "Mounted at /content/drive\n"
          ],
          "name": "stdout"
        }
      ]
    },
    {
      "cell_type": "code",
      "metadata": {
        "id": "bc0mhipXEU1N",
        "colab_type": "code",
        "outputId": "180e3ddf-82b1-4e83-f81d-a16ec4bd3616",
        "colab": {
          "base_uri": "https://localhost:8080/",
          "height": 51
        }
      },
      "source": [
        "df_m3 = pd.read_csv('/content/drive/My Drive/Dataset/df_m3_processed.csv')"
      ],
      "execution_count": 3,
      "outputs": [
        {
          "output_type": "stream",
          "text": [
            "/usr/local/lib/python3.6/dist-packages/IPython/core/interactiveshell.py:2718: DtypeWarning: Columns (5) have mixed types. Specify dtype option on import or set low_memory=False.\n",
            "  interactivity=interactivity, compiler=compiler, result=result)\n"
          ],
          "name": "stderr"
        }
      ]
    },
    {
      "cell_type": "code",
      "metadata": {
        "id": "sgUweeO40ZM-",
        "colab_type": "code",
        "colab": {}
      },
      "source": [
        "features = [ 'ADMISSION_TYPE',\n",
        "       'MARITAL_STATUS', 'INSURANCE', 'LANGUAGE',\n",
        "       'RELIGION', 'ETHNICITY', 'GENDER', 'AGE', 'CALLOUT_COUNT',\n",
        "       'DIAG_COUNT', 'PRES_COUNT', 'PROC_COUNT', 'CPT_COUNT', 'LAB_COUNT',\n",
        "       'INPUTS_CV_COUNT', 'INPUTS_MV_COUNT', 'OUTPUT_COUNT', 'TRANSFER_COUNT',\n",
        "       'MICRO_COUNT']"
      ],
      "execution_count": 0,
      "outputs": []
    },
    {
      "cell_type": "markdown",
      "metadata": {
        "id": "7gccJZFDdiUv",
        "colab_type": "text"
      },
      "source": [
        "### Scaling"
      ]
    },
    {
      "cell_type": "code",
      "metadata": {
        "id": "O0d6C2mC05S-",
        "colab_type": "code",
        "colab": {}
      },
      "source": [
        "train_X = df_m3.loc[:,features]\n",
        "train_y = df_m3.loc[:,'MORTAL']"
      ],
      "execution_count": 0,
      "outputs": []
    },
    {
      "cell_type": "code",
      "metadata": {
        "id": "JvXgixmgdsV-",
        "colab_type": "code",
        "colab": {}
      },
      "source": [
        "scaler = MinMaxScaler()\n",
        "train_X = scaler.fit_transform(train_X)"
      ],
      "execution_count": 0,
      "outputs": []
    },
    {
      "cell_type": "code",
      "metadata": {
        "id": "wFUtJNTLL5V7",
        "colab_type": "code",
        "colab": {}
      },
      "source": [
        "X_train, X_test, y_train, y_test = train_test_split(train_X, train_y, test_size=0.2, random_state=2, stratify=train_y)"
      ],
      "execution_count": 0,
      "outputs": []
    },
    {
      "cell_type": "markdown",
      "metadata": {
        "id": "L2gns9QGN6oz",
        "colab_type": "text"
      },
      "source": [
        "https://scikit-learn.org/stable/modules/generated/sklearn.model_selection.train_test_split.html"
      ]
    },
    {
      "cell_type": "code",
      "metadata": {
        "id": "8t0ehtd2BSps",
        "colab_type": "code",
        "colab": {}
      },
      "source": [
        "help(train_test_split)"
      ],
      "execution_count": 0,
      "outputs": []
    },
    {
      "cell_type": "markdown",
      "metadata": {
        "id": "UG9XuAK82wiG",
        "colab_type": "text"
      },
      "source": [
        "### RandomForest"
      ]
    },
    {
      "cell_type": "markdown",
      "metadata": {
        "id": "TAQbShcYVIaY",
        "colab_type": "text"
      },
      "source": [
        "![RandomForest](https://github.com/niuguy/digithealthcourse/blob/master/pics/RandomForestClassifire.jpg?raw=true)"
      ]
    },
    {
      "cell_type": "code",
      "metadata": {
        "id": "hWx-esxD1Rcq",
        "colab_type": "code",
        "colab": {}
      },
      "source": [
        "rf = RandomForestClassifier(n_estimators=200,\n",
        "                             random_state = 42,\n",
        "                             n_jobs=-1)"
      ],
      "execution_count": 0,
      "outputs": []
    },
    {
      "cell_type": "code",
      "metadata": {
        "id": "q1JORJFz1XY-",
        "colab_type": "code",
        "outputId": "696d0ad3-ddc9-4b29-befc-ed048e50e02a",
        "colab": {
          "base_uri": "https://localhost:8080/",
          "height": 204
        }
      },
      "source": [
        "rf.fit(X_train, y_train)\n",
        "y_pred = rf.predict(X_test)\n",
        "print('F1 Score: {:.2f}'.format(f1_score(y_test, y_pred)))\n",
        "print('Classification report\\n',classification_report(y_test, y_pred))    "
      ],
      "execution_count": 24,
      "outputs": [
        {
          "output_type": "stream",
          "text": [
            "F1 Score: 0.45\n",
            "Classification report\n",
            "               precision    recall  f1-score   support\n",
            "\n",
            "           0       0.92      0.99      0.95      9151\n",
            "           1       0.83      0.31      0.45      1199\n",
            "\n",
            "    accuracy                           0.91     10350\n",
            "   macro avg       0.87      0.65      0.70     10350\n",
            "weighted avg       0.91      0.91      0.89     10350\n",
            "\n"
          ],
          "name": "stdout"
        }
      ]
    },
    {
      "cell_type": "markdown",
      "metadata": {
        "id": "NSqg7WOiFY6x",
        "colab_type": "text"
      },
      "source": [
        "https://en.wikipedia.org/wiki/F1_score \n",
        "\n",
        "![classification matrics](https://github.com/niuguy/digithealthcourse/blob/master/pics/classification_metrics.jpg?raw=true)"
      ]
    },
    {
      "cell_type": "markdown",
      "metadata": {
        "id": "mO7ccIAlHmoJ",
        "colab_type": "text"
      },
      "source": [
        "Confusion matrix"
      ]
    },
    {
      "cell_type": "code",
      "metadata": {
        "id": "m6m2ZNr41aUG",
        "colab_type": "code",
        "outputId": "19ce58b4-401f-4629-f1ce-6acad9462ed1",
        "colab": {
          "base_uri": "https://localhost:8080/",
          "height": 359
        }
      },
      "source": [
        "disp = plot_confusion_matrix(rf, X_test, y_test)\n",
        "disp.figure_.suptitle(\"Confusion Matrix\")\n",
        "print(\"Confusion matrix:\\n%s\" % disp.confusion_matrix)"
      ],
      "execution_count": 26,
      "outputs": [
        {
          "output_type": "stream",
          "text": [
            "Confusion matrix:\n",
            "[[9073   78]\n",
            " [ 824  375]]\n"
          ],
          "name": "stdout"
        },
        {
          "output_type": "display_data",
          "data": {
            "image/png": "[encoded data removed]",
            "text/plain": [
              "<Figure size 432x288 with 2 Axes>"
            ]
          },
          "metadata": {
            "tags": []
          }
        }
      ]
    },
    {
      "cell_type": "markdown",
      "metadata": {
        "id": "TjuHj6cHHxGJ",
        "colab_type": "text"
      },
      "source": [
        "Feature Importance"
      ]
    },
    {
      "cell_type": "code",
      "metadata": {
        "id": "l56tOqYwfgD_",
        "colab_type": "code",
        "colab": {}
      },
      "source": [
        "\n",
        "# function for creating a feature importance dataframe\n",
        "def imp_df(column_names, importances):\n",
        "    df = pd.DataFrame({'feature': column_names,\n",
        "                       'feature_importance': importances}) \\\n",
        "           .sort_values('feature_importance', ascending = False) \\\n",
        "           .reset_index(drop = True)\n",
        "    return df\n",
        "\n",
        "# plotting a feature importance dataframe (horizontal barchart)\n",
        "def var_imp_plot(imp_df, title):\n",
        "    imp_df.columns = ['feature', 'feature_importance']\n",
        "    sns.barplot(x = 'feature_importance', y = 'feature', data = imp_df, orient = 'h', color = 'royalblue') \\\n",
        "       .set_title(title, fontsize = 20)"
      ],
      "execution_count": 0,
      "outputs": []
    },
    {
      "cell_type": "code",
      "metadata": {
        "id": "-kYe9i_11tzJ",
        "colab_type": "code",
        "outputId": "84841e92-6f3c-42ef-d248-82e4247b7e0f",
        "colab": {
          "base_uri": "https://localhost:8080/",
          "height": 638
        }
      },
      "source": [
        "base_imp = imp_df(features, rf.feature_importances_)\n",
        "base_imp"
      ],
      "execution_count": 30,
      "outputs": [
        {
          "output_type": "execute_result",
          "data": {
            "text/html": [
              "<div>\n",
              "<style scoped>\n",
              "    .dataframe tbody tr th:only-of-type {\n",
              "        vertical-align: middle;\n",
              "    }\n",
              "\n",
              "    .dataframe tbody tr th {\n",
              "        vertical-align: top;\n",
              "    }\n",
              "\n",
              "    .dataframe thead th {\n",
              "        text-align: right;\n",
              "    }\n",
              "</style>\n",
              "<table border=\"1\" class=\"dataframe\">\n",
              "  <thead>\n",
              "    <tr style=\"text-align: right;\">\n",
              "      <th></th>\n",
              "      <th>feature</th>\n",
              "      <th>feature_importance</th>\n",
              "    </tr>\n",
              "  </thead>\n",
              "  <tbody>\n",
              "    <tr>\n",
              "      <th>0</th>\n",
              "      <td>INPUTS_CV_COUNT</td>\n",
              "      <td>0.091974</td>\n",
              "    </tr>\n",
              "    <tr>\n",
              "      <th>1</th>\n",
              "      <td>OUTPUT_COUNT</td>\n",
              "      <td>0.090835</td>\n",
              "    </tr>\n",
              "    <tr>\n",
              "      <th>2</th>\n",
              "      <td>LAB_COUNT</td>\n",
              "      <td>0.086317</td>\n",
              "    </tr>\n",
              "    <tr>\n",
              "      <th>3</th>\n",
              "      <td>TRANSFER_COUNT</td>\n",
              "      <td>0.080411</td>\n",
              "    </tr>\n",
              "    <tr>\n",
              "      <th>4</th>\n",
              "      <td>DIAG_COUNT</td>\n",
              "      <td>0.076004</td>\n",
              "    </tr>\n",
              "    <tr>\n",
              "      <th>5</th>\n",
              "      <td>AGE</td>\n",
              "      <td>0.075811</td>\n",
              "    </tr>\n",
              "    <tr>\n",
              "      <th>6</th>\n",
              "      <td>MICRO_COUNT</td>\n",
              "      <td>0.068047</td>\n",
              "    </tr>\n",
              "    <tr>\n",
              "      <th>7</th>\n",
              "      <td>INPUTS_MV_COUNT</td>\n",
              "      <td>0.066589</td>\n",
              "    </tr>\n",
              "    <tr>\n",
              "      <th>8</th>\n",
              "      <td>PRES_COUNT</td>\n",
              "      <td>0.066505</td>\n",
              "    </tr>\n",
              "    <tr>\n",
              "      <th>9</th>\n",
              "      <td>CPT_COUNT</td>\n",
              "      <td>0.062729</td>\n",
              "    </tr>\n",
              "    <tr>\n",
              "      <th>10</th>\n",
              "      <td>PROC_COUNT</td>\n",
              "      <td>0.054638</td>\n",
              "    </tr>\n",
              "    <tr>\n",
              "      <th>11</th>\n",
              "      <td>CALLOUT_COUNT</td>\n",
              "      <td>0.054431</td>\n",
              "    </tr>\n",
              "    <tr>\n",
              "      <th>12</th>\n",
              "      <td>RELIGION</td>\n",
              "      <td>0.031443</td>\n",
              "    </tr>\n",
              "    <tr>\n",
              "      <th>13</th>\n",
              "      <td>MARITAL_STATUS</td>\n",
              "      <td>0.025222</td>\n",
              "    </tr>\n",
              "    <tr>\n",
              "      <th>14</th>\n",
              "      <td>ETHNICITY</td>\n",
              "      <td>0.018456</td>\n",
              "    </tr>\n",
              "    <tr>\n",
              "      <th>15</th>\n",
              "      <td>INSURANCE</td>\n",
              "      <td>0.016968</td>\n",
              "    </tr>\n",
              "    <tr>\n",
              "      <th>16</th>\n",
              "      <td>ADMISSION_TYPE</td>\n",
              "      <td>0.012107</td>\n",
              "    </tr>\n",
              "    <tr>\n",
              "      <th>17</th>\n",
              "      <td>GENDER</td>\n",
              "      <td>0.011488</td>\n",
              "    </tr>\n",
              "    <tr>\n",
              "      <th>18</th>\n",
              "      <td>LANGUAGE</td>\n",
              "      <td>0.010027</td>\n",
              "    </tr>\n",
              "  </tbody>\n",
              "</table>\n",
              "</div>"
            ],
            "text/plain": [
              "            feature  feature_importance\n",
              "0   INPUTS_CV_COUNT            0.091974\n",
              "1      OUTPUT_COUNT            0.090835\n",
              "2         LAB_COUNT            0.086317\n",
              "3    TRANSFER_COUNT            0.080411\n",
              "4        DIAG_COUNT            0.076004\n",
              "5               AGE            0.075811\n",
              "6       MICRO_COUNT            0.068047\n",
              "7   INPUTS_MV_COUNT            0.066589\n",
              "8        PRES_COUNT            0.066505\n",
              "9         CPT_COUNT            0.062729\n",
              "10       PROC_COUNT            0.054638\n",
              "11    CALLOUT_COUNT            0.054431\n",
              "12         RELIGION            0.031443\n",
              "13   MARITAL_STATUS            0.025222\n",
              "14        ETHNICITY            0.018456\n",
              "15        INSURANCE            0.016968\n",
              "16   ADMISSION_TYPE            0.012107\n",
              "17           GENDER            0.011488\n",
              "18         LANGUAGE            0.010027"
            ]
          },
          "metadata": {
            "tags": []
          },
          "execution_count": 30
        }
      ]
    },
    {
      "cell_type": "code",
      "metadata": {
        "id": "NTNbGTK118MB",
        "colab_type": "code",
        "outputId": "f6795ec4-607c-4c62-fbae-394698877a44",
        "colab": {
          "base_uri": "https://localhost:8080/",
          "height": 301
        }
      },
      "source": [
        "var_imp_plot(base_imp, 'Feature importance')"
      ],
      "execution_count": 31,
      "outputs": [
        {
          "output_type": "display_data",
          "data": {
            "image/png": "[encoded data removed]",
            "text/plain": [
              "<Figure size 432x288 with 1 Axes>"
            ]
          },
          "metadata": {
            "tags": []
          }
        }
      ]
    },
    {
      "cell_type": "markdown",
      "metadata": {
        "id": "_smhAgHiLSbb",
        "colab_type": "text"
      },
      "source": [
        "**Q:** Can we get to the conclusion that INPUTS_CV_COUNT and OUTPUT_COUNT are the most important features?"
      ]
    },
    {
      "cell_type": "markdown",
      "metadata": {
        "id": "T8kf7l1gNDwR",
        "colab_type": "text"
      },
      "source": [
        "Reference    [Explaining Feature Importance by example of a Random Forest](https://towardsdatascience.com/explaining-feature-importance-by-example-of-a-random-forest-d9166011959e) \n",
        "\n",
        "More about RandomForest  https://youtube.com/watch?v=J4Wdy0Wc_xQ"
      ]
    },
    {
      "cell_type": "markdown",
      "metadata": {
        "id": "JIxKipEq25N2",
        "colab_type": "text"
      },
      "source": [
        "### Logistic Regression"
      ]
    },
    {
      "cell_type": "markdown",
      "metadata": {
        "id": "FbgZhT2xP4FC",
        "colab_type": "text"
      },
      "source": [
        "![Logistic Regression](https://github.com/niuguy/digithealthcourse/blob/master/pics/Logistic%20Regression.png?raw=true)"
      ]
    },
    {
      "cell_type": "markdown",
      "metadata": {
        "id": "A5bpNOHTivrN",
        "colab_type": "text"
      },
      "source": [
        "What's the difference between Linear regression and Logistic regression?   https://www.youtube.com/watch?v=yIYKR4sgzI8"
      ]
    },
    {
      "cell_type": "code",
      "metadata": {
        "colab_type": "code",
        "outputId": "a7da5bde-f207-495b-a5ca-42b7d16c2618",
        "id": "UiFJ95d9EzBP",
        "colab": {
          "base_uri": "https://localhost:8080/",
          "height": 153
        }
      },
      "source": [
        "logreg = LogisticRegression()\n",
        "logreg.fit(scaler.fit_transform(X_train), y_train)\n",
        "y_pred = logreg.predict(scaler.fit_transform(X_test))"
      ],
      "execution_count": 11,
      "outputs": [
        {
          "output_type": "stream",
          "text": [
            "/usr/local/lib/python3.6/dist-packages/sklearn/linear_model/_logistic.py:940: ConvergenceWarning: lbfgs failed to converge (status=1):\n",
            "STOP: TOTAL NO. of ITERATIONS REACHED LIMIT.\n",
            "\n",
            "Increase the number of iterations (max_iter) or scale the data as shown in:\n",
            "    https://scikit-learn.org/stable/modules/preprocessing.html\n",
            "Please also refer to the documentation for alternative solver options:\n",
            "    https://scikit-learn.org/stable/modules/linear_model.html#logistic-regression\n",
            "  extra_warning_msg=_LOGISTIC_SOLVER_CONVERGENCE_MSG)\n"
          ],
          "name": "stderr"
        }
      ]
    },
    {
      "cell_type": "code",
      "metadata": {
        "id": "P_69REVyAj-o",
        "colab_type": "code",
        "outputId": "a2260a81-8014-4124-a6d9-4abc4ad920c0",
        "colab": {
          "base_uri": "https://localhost:8080/",
          "height": 204
        }
      },
      "source": [
        "print('F1 Score: {:.2f}'.format(f1_score(y_test, y_pred)))\n",
        "print('Classification report\\n',classification_report(y_test, y_pred))   "
      ],
      "execution_count": 12,
      "outputs": [
        {
          "output_type": "stream",
          "text": [
            "F1 Score: 0.09\n",
            "Classification report\n",
            "               precision    recall  f1-score   support\n",
            "\n",
            "           0       0.89      1.00      0.94      9151\n",
            "           1       0.56      0.05      0.09      1199\n",
            "\n",
            "    accuracy                           0.89     10350\n",
            "   macro avg       0.72      0.52      0.51     10350\n",
            "weighted avg       0.85      0.89      0.84     10350\n",
            "\n"
          ],
          "name": "stdout"
        }
      ]
    },
    {
      "cell_type": "markdown",
      "metadata": {
        "id": "wDH_7T_DNSIf",
        "colab_type": "text"
      },
      "source": [
        "### Linear SVC\n",
        "\n",
        "![alt text](https://github.com/niuguy/digithealthcourse/blob/master/pics/SVM_margin.png?raw=true)"
      ]
    },
    {
      "cell_type": "code",
      "metadata": {
        "id": "WvRLMDE2NUZa",
        "colab_type": "code",
        "colab": {}
      },
      "source": [
        "svc = SVC(kernel='linear')\n",
        "svc.fit(X_train, y_train)\n",
        "y_pred = svc.predict(X_test)"
      ],
      "execution_count": 0,
      "outputs": []
    },
    {
      "cell_type": "code",
      "metadata": {
        "id": "jytJ3oS8Nakh",
        "colab_type": "code",
        "colab": {
          "base_uri": "https://localhost:8080/",
          "height": 204
        },
        "outputId": "52e53f1e-fcde-436f-b86c-1c1ffc61a5cd"
      },
      "source": [
        "print('F1 Score: {:.2f}'.format(f1_score(y_test, y_pred)))\n",
        "print('Classification report\\n',classification_report(y_test, y_pred))   "
      ],
      "execution_count": 11,
      "outputs": [
        {
          "output_type": "stream",
          "text": [
            "F1 Score: 0.04\n",
            "Classification report\n",
            "               precision    recall  f1-score   support\n",
            "\n",
            "           0       0.89      1.00      0.94      9151\n",
            "           1       0.78      0.02      0.04      1199\n",
            "\n",
            "    accuracy                           0.89     10350\n",
            "   macro avg       0.83      0.51      0.49     10350\n",
            "weighted avg       0.87      0.89      0.84     10350\n",
            "\n"
          ],
          "name": "stdout"
        }
      ]
    },
    {
      "cell_type": "markdown",
      "metadata": {
        "id": "CIvaGzYrOIQs",
        "colab_type": "text"
      },
      "source": [
        "### Gaussian Naive Bayes\n",
        "\n",
        "![alt text](https://www.saedsayad.com/images/Bayes_rule.png)\n",
        "\n",
        "https://www.youtube.com/watch?v=CPqOCI0ahss"
      ]
    },
    {
      "cell_type": "code",
      "metadata": {
        "id": "5PQx1u6jOS37",
        "colab_type": "code",
        "colab": {
          "base_uri": "https://localhost:8080/",
          "height": 204
        },
        "outputId": "ec4a527c-56af-4e89-e2c1-0df195e04602"
      },
      "source": [
        "# Gaussian Naive Bayes\n",
        "\n",
        "gaussian = GaussianNB()\n",
        "gaussian.fit(X_train, y_train)\n",
        "y_pred = gaussian.predict(X_test)\n",
        "\n",
        "print('F1 Score: {:.2f}'.format(f1_score(y_test, y_pred)))\n",
        "print('Classification report\\n',classification_report(y_test, y_pred))   "
      ],
      "execution_count": 12,
      "outputs": [
        {
          "output_type": "stream",
          "text": [
            "F1 Score: 0.13\n",
            "Classification report\n",
            "               precision    recall  f1-score   support\n",
            "\n",
            "           0       0.89      0.96      0.92      9151\n",
            "           1       0.22      0.09      0.13      1199\n",
            "\n",
            "    accuracy                           0.86     10350\n",
            "   macro avg       0.55      0.52      0.53     10350\n",
            "weighted avg       0.81      0.86      0.83     10350\n",
            "\n"
          ],
          "name": "stdout"
        }
      ]
    },
    {
      "cell_type": "markdown",
      "metadata": {
        "id": "EVLpqLcxTEkv",
        "colab_type": "text"
      },
      "source": [
        "### K nearest neighbors\n",
        "\n",
        "![alt text](https://github.com/niuguy/digithealthcourse/blob/master/pics/KNN_final1_ibdm8a.png?raw=true)"
      ]
    },
    {
      "cell_type": "code",
      "metadata": {
        "id": "KER5zyvXTKnf",
        "colab_type": "code",
        "colab": {
          "base_uri": "https://localhost:8080/",
          "height": 204
        },
        "outputId": "7df5a0de-6201-4243-f645-37973485c3c9"
      },
      "source": [
        "knn=KNeighborsClassifier() \n",
        "knn.fit(X_train, y_train)\n",
        "y_pred=knn.predict(X_test)\n",
        "print('F1 Score: {:.2f}'.format(f1_score(y_test, y_pred)))\n",
        "print('Classification report\\n',classification_report(y_test, y_pred))   "
      ],
      "execution_count": 14,
      "outputs": [
        {
          "output_type": "stream",
          "text": [
            "F1 Score: 0.28\n",
            "Classification report\n",
            "               precision    recall  f1-score   support\n",
            "\n",
            "           0       0.90      0.98      0.94      9151\n",
            "           1       0.53      0.19      0.28      1199\n",
            "\n",
            "    accuracy                           0.89     10350\n",
            "   macro avg       0.72      0.59      0.61     10350\n",
            "weighted avg       0.86      0.89      0.86     10350\n",
            "\n"
          ],
          "name": "stdout"
        }
      ]
    },
    {
      "cell_type": "markdown",
      "metadata": {
        "id": "z_Zjq-t4FvO2",
        "colab_type": "text"
      },
      "source": [
        "## Cross Validation"
      ]
    },
    {
      "cell_type": "markdown",
      "metadata": {
        "id": "QmTGsAAdkZNu",
        "colab_type": "text"
      },
      "source": [
        "**Q**:  How can we know the train-test split strategy is the best way to train the data?"
      ]
    },
    {
      "cell_type": "markdown",
      "metadata": {
        "id": "0grJ2EDiF7Ma",
        "colab_type": "text"
      },
      "source": [
        "We should train and test our algorithm on each and every instance of the dataset. Then we can take an average of all the noted accuracies over the dataset. The strategy we are going to use is called k-fold validation. \n",
        "The general procedure is as follows:(refer to https://machinelearningmastery.com/k-fold-cross-validation/)\n",
        "* Shuffle the dataset randomly.\n",
        "* Split the dataset into k groups\n",
        "* For each unique group:\n",
        "  * Take the group as a hold out or test data set\n",
        "  * Take the remaining groups as a training data set\n",
        "  * Fit a model on the training set and evaluate it on the test set\n",
        "  * Retain the evaluation score and discard the model\n",
        "* Summarize the skill of the model using the sample of model evaluation scores\n",
        "\n",
        "\n",
        "![alt text](https://scikit-learn.org/stable/_images/grid_search_cross_validation.png)"
      ]
    },
    {
      "cell_type": "code",
      "metadata": {
        "id": "dlzwDY2YJQue",
        "colab_type": "code",
        "colab": {
          "base_uri": "https://localhost:8080/",
          "height": 139
        },
        "outputId": "e86dfa25-eb94-4c06-a9de-319bbd422fea"
      },
      "source": [
        "from sklearn.model_selection import KFold #for K-fold cross validation\n",
        "from sklearn.model_selection import cross_val_score #score evaluation\n",
        "from sklearn.model_selection import cross_val_predict #prediction\n",
        "kfold = KFold(n_splits=5, random_state=22) # k=5, split the data into 5 equal parts\n",
        "\n",
        "results=[]\n",
        "classifiers=['Logistic Regression','KNN','Naive Bayes','Random Forest']\n",
        "# train_X = scaler.fit_transform(train_X)\n",
        "models=[LogisticRegression(max_iter=1000),KNeighborsClassifier(),GaussianNB(),RandomForestClassifier(n_estimators=200)]\n",
        "for model in models:\n",
        "    cv_result = cross_val_score(model,scaler.fit_transform(train_X),train_y, cv = kfold,scoring = \"accuracy\")\n",
        "    cv_result=cv_result\n",
        "    results.append(cv_result)"
      ],
      "execution_count": 15,
      "outputs": [
        {
          "output_type": "stream",
          "text": [
            "/usr/local/lib/python3.6/dist-packages/sklearn/model_selection/_split.py:296: FutureWarning: Setting a random_state has no effect since shuffle is False. This will raise an error in 0.24. You should leave random_state to its default (None), or set shuffle=True.\n",
            "  FutureWarning\n",
            "/usr/local/lib/python3.6/dist-packages/sklearn/model_selection/_validation.py:536: FitFailedWarning: Estimator fit failed. The score on this train-test partition for these parameters will be set to nan. Details: \n",
            "ValueError: This solver needs samples of at least 2 classes in the data, but the data contains only one class: 0\n",
            "\n",
            "  FitFailedWarning)\n"
          ],
          "name": "stderr"
        }
      ]
    },
    {
      "cell_type": "code",
      "metadata": {
        "id": "coA0obtXK5AI",
        "colab_type": "code",
        "colab": {
          "base_uri": "https://localhost:8080/",
          "height": 391
        },
        "outputId": "015c995f-b834-4aa9-e4a0-e702cbe11dab"
      },
      "source": [
        "plt.subplots(figsize=(12,6))\n",
        "box=pd.DataFrame(results,index=[classifiers])\n",
        "box.T.boxplot()"
      ],
      "execution_count": 16,
      "outputs": [
        {
          "output_type": "execute_result",
          "data": {
            "text/plain": [
              "<matplotlib.axes._subplots.AxesSubplot at 0x7f8a5d82ef60>"
            ]
          },
          "metadata": {
            "tags": []
          },
          "execution_count": 16
        },
        {
          "output_type": "display_data",
          "data": {
            "image/png": "[encoded data removed]",
            "text/plain": [
              "<Figure size 864x432 with 1 Axes>"
            ]
          },
          "metadata": {
            "tags": []
          }
        }
      ]
    },
    {
      "cell_type": "markdown",
      "metadata": {
        "id": "12_g3svwEgmv",
        "colab_type": "text"
      },
      "source": [
        "### Neural Network"
      ]
    },
    {
      "cell_type": "markdown",
      "metadata": {
        "id": "CChUekmeOWzU",
        "colab_type": "text"
      },
      "source": [
        "![NN](https://github.com/niuguy/digithealthcourse/blob/master/pics/neural%20networks.png?raw=true)"
      ]
    },
    {
      "cell_type": "markdown",
      "metadata": {
        "id": "RTQyXSbppQND",
        "colab_type": "text"
      },
      "source": [
        "What is Neural Network?\n",
        "\n",
        "https://www.youtube.com/watch?v=bfmFfD2RIcg"
      ]
    },
    {
      "cell_type": "code",
      "metadata": {
        "id": "01eZbX6hLOm-",
        "colab_type": "code",
        "outputId": "a523c478-a644-4db4-c696-1b6e77312d57",
        "colab": {
          "base_uri": "https://localhost:8080/",
          "height": 80
        }
      },
      "source": [
        "import keras \n",
        "from keras.models import Sequential # intitialize the ANN\n",
        "from keras.layers import Dense      # create layers"
      ],
      "execution_count": 0,
      "outputs": [
        {
          "output_type": "stream",
          "text": [
            "Using TensorFlow backend.\n"
          ],
          "name": "stderr"
        },
        {
          "output_type": "display_data",
          "data": {
            "text/html": [
              "<p style=\"color: red;\">\n",
              "The default version of TensorFlow in Colab will soon switch to TensorFlow 2.x.<br>\n",
              "We recommend you <a href=\"https://www.tensorflow.org/guide/migrate\" target=\"_blank\">upgrade</a> now \n",
              "or ensure your notebook will continue to use TensorFlow 1.x via the <code>%tensorflow_version 1.x</code> magic:\n",
              "<a href=\"https://colab.research.google.com/notebooks/tensorflow_version.ipynb\" target=\"_blank\">more info</a>.</p>\n"
            ],
            "text/plain": [
              "<IPython.core.display.HTML object>"
            ]
          },
          "metadata": {
            "tags": []
          }
        }
      ]
    },
    {
      "cell_type": "code",
      "metadata": {
        "id": "XjPRg4SILKxx",
        "colab_type": "code",
        "outputId": "3b4f77be-138a-413f-da86-4aaadc8ae8d9",
        "colab": {
          "base_uri": "https://localhost:8080/",
          "height": 1000
        }
      },
      "source": [
        "# Initialising the NN\n",
        "model = Sequential()\n",
        "\n",
        "# layers\n",
        "model.add(Dense(units = 9,  activation = 'relu', input_dim = 19))\n",
        "# model.add(Dense(units = 9, activation = 'relu'))\n",
        "model.add(Dense(units = 5, activation = 'relu'))\n",
        "model.add(Dense(units = 1, activation = 'sigmoid'))\n",
        "\n",
        "# Compiling\n",
        "model.compile(optimizer = 'adam', loss = 'binary_crossentropy', metrics = ['accuracy'])\n",
        "\n",
        "# Train\n",
        "model.fit(X_train, y_train, batch_size = 32, epochs = 100)"
      ],
      "execution_count": 0,
      "outputs": [
        {
          "output_type": "stream",
          "text": [
            "WARNING:tensorflow:From /usr/local/lib/python3.6/dist-packages/keras/backend/tensorflow_backend.py:66: The name tf.get_default_graph is deprecated. Please use tf.compat.v1.get_default_graph instead.\n",
            "\n",
            "WARNING:tensorflow:From /usr/local/lib/python3.6/dist-packages/keras/backend/tensorflow_backend.py:541: The name tf.placeholder is deprecated. Please use tf.compat.v1.placeholder instead.\n",
            "\n",
            "WARNING:tensorflow:From /usr/local/lib/python3.6/dist-packages/keras/backend/tensorflow_backend.py:4432: The name tf.random_uniform is deprecated. Please use tf.random.uniform instead.\n",
            "\n",
            "WARNING:tensorflow:From /usr/local/lib/python3.6/dist-packages/keras/optimizers.py:793: The name tf.train.Optimizer is deprecated. Please use tf.compat.v1.train.Optimizer instead.\n",
            "\n",
            "WARNING:tensorflow:From /usr/local/lib/python3.6/dist-packages/keras/backend/tensorflow_backend.py:3657: The name tf.log is deprecated. Please use tf.math.log instead.\n",
            "\n",
            "WARNING:tensorflow:From /usr/local/lib/python3.6/dist-packages/tensorflow_core/python/ops/nn_impl.py:183: where (from tensorflow.python.ops.array_ops) is deprecated and will be removed in a future version.\n",
            "Instructions for updating:\n",
            "Use tf.where in 2.0, which has the same broadcast rule as np.where\n",
            "WARNING:tensorflow:From /usr/local/lib/python3.6/dist-packages/keras/backend/tensorflow_backend.py:1033: The name tf.assign_add is deprecated. Please use tf.compat.v1.assign_add instead.\n",
            "\n",
            "WARNING:tensorflow:From /usr/local/lib/python3.6/dist-packages/keras/backend/tensorflow_backend.py:1020: The name tf.assign is deprecated. Please use tf.compat.v1.assign instead.\n",
            "\n",
            "WARNING:tensorflow:From /usr/local/lib/python3.6/dist-packages/keras/backend/tensorflow_backend.py:3005: The name tf.Session is deprecated. Please use tf.compat.v1.Session instead.\n",
            "\n",
            "Epoch 1/100\n",
            "WARNING:tensorflow:From /usr/local/lib/python3.6/dist-packages/keras/backend/tensorflow_backend.py:190: The name tf.get_default_session is deprecated. Please use tf.compat.v1.get_default_session instead.\n",
            "\n",
            "WARNING:tensorflow:From /usr/local/lib/python3.6/dist-packages/keras/backend/tensorflow_backend.py:197: The name tf.ConfigProto is deprecated. Please use tf.compat.v1.ConfigProto instead.\n",
            "\n",
            "WARNING:tensorflow:From /usr/local/lib/python3.6/dist-packages/keras/backend/tensorflow_backend.py:207: The name tf.global_variables is deprecated. Please use tf.compat.v1.global_variables instead.\n",
            "\n",
            "WARNING:tensorflow:From /usr/local/lib/python3.6/dist-packages/keras/backend/tensorflow_backend.py:216: The name tf.is_variable_initialized is deprecated. Please use tf.compat.v1.is_variable_initialized instead.\n",
            "\n",
            "WARNING:tensorflow:From /usr/local/lib/python3.6/dist-packages/keras/backend/tensorflow_backend.py:223: The name tf.variables_initializer is deprecated. Please use tf.compat.v1.variables_initializer instead.\n",
            "\n",
            "41398/41398 [==============================] - 2s 55us/step - loss: 0.3798 - acc: 0.8801\n",
            "Epoch 2/100\n",
            "41398/41398 [==============================] - 2s 38us/step - loss: 0.3049 - acc: 0.8861\n",
            "Epoch 3/100\n",
            "41398/41398 [==============================] - 2s 39us/step - loss: 0.2930 - acc: 0.8881\n",
            "Epoch 4/100\n",
            "41398/41398 [==============================] - 2s 40us/step - loss: 0.2880 - acc: 0.8891\n",
            "Epoch 5/100\n",
            "41398/41398 [==============================] - 2s 40us/step - loss: 0.2855 - acc: 0.8898\n",
            "Epoch 6/100\n",
            "41398/41398 [==============================] - 2s 41us/step - loss: 0.2830 - acc: 0.8919\n",
            "Epoch 7/100\n",
            "41398/41398 [==============================] - 2s 40us/step - loss: 0.2811 - acc: 0.8940\n",
            "Epoch 8/100\n",
            "41398/41398 [==============================] - 2s 40us/step - loss: 0.2793 - acc: 0.8946\n",
            "Epoch 9/100\n",
            "41398/41398 [==============================] - 2s 39us/step - loss: 0.2786 - acc: 0.8951\n",
            "Epoch 10/100\n",
            "41398/41398 [==============================] - 2s 39us/step - loss: 0.2776 - acc: 0.8959\n",
            "Epoch 11/100\n",
            "41398/41398 [==============================] - 2s 40us/step - loss: 0.2762 - acc: 0.8975\n",
            "Epoch 12/100\n",
            "41398/41398 [==============================] - 2s 42us/step - loss: 0.2751 - acc: 0.8975\n",
            "Epoch 13/100\n",
            "41398/41398 [==============================] - 2s 41us/step - loss: 0.2752 - acc: 0.8978\n",
            "Epoch 14/100\n",
            "41398/41398 [==============================] - 2s 40us/step - loss: 0.2733 - acc: 0.8983\n",
            "Epoch 15/100\n",
            "41398/41398 [==============================] - 2s 41us/step - loss: 0.2732 - acc: 0.8990\n",
            "Epoch 16/100\n",
            "41398/41398 [==============================] - 2s 41us/step - loss: 0.2727 - acc: 0.8990\n",
            "Epoch 17/100\n",
            "41398/41398 [==============================] - 2s 40us/step - loss: 0.2718 - acc: 0.8998\n",
            "Epoch 18/100\n",
            "41398/41398 [==============================] - 2s 39us/step - loss: 0.2691 - acc: 0.9001\n",
            "Epoch 19/100\n",
            "41398/41398 [==============================] - 2s 40us/step - loss: 0.2689 - acc: 0.9010\n",
            "Epoch 20/100\n",
            "41398/41398 [==============================] - 2s 40us/step - loss: 0.2673 - acc: 0.9010\n",
            "Epoch 21/100\n",
            "41398/41398 [==============================] - 2s 40us/step - loss: 0.2657 - acc: 0.9014\n",
            "Epoch 22/100\n",
            "41398/41398 [==============================] - 2s 40us/step - loss: 0.2654 - acc: 0.9022\n",
            "Epoch 23/100\n",
            "41398/41398 [==============================] - 2s 39us/step - loss: 0.2650 - acc: 0.9010\n",
            "Epoch 24/100\n",
            "41398/41398 [==============================] - 2s 40us/step - loss: 0.2639 - acc: 0.9018\n",
            "Epoch 25/100\n",
            "41398/41398 [==============================] - 2s 40us/step - loss: 0.2623 - acc: 0.9019\n",
            "Epoch 26/100\n",
            "41398/41398 [==============================] - 2s 40us/step - loss: 0.2618 - acc: 0.9029\n",
            "Epoch 27/100\n",
            "41398/41398 [==============================] - 2s 40us/step - loss: 0.2619 - acc: 0.9028\n",
            "Epoch 28/100\n",
            "41398/41398 [==============================] - 2s 40us/step - loss: 0.2613 - acc: 0.9021\n",
            "Epoch 29/100\n",
            "41398/41398 [==============================] - 2s 40us/step - loss: 0.2603 - acc: 0.9035\n",
            "Epoch 30/100\n",
            "41398/41398 [==============================] - 2s 40us/step - loss: 0.2603 - acc: 0.9024\n",
            "Epoch 31/100\n",
            "41398/41398 [==============================] - 2s 40us/step - loss: 0.2598 - acc: 0.9032\n",
            "Epoch 32/100\n",
            "41398/41398 [==============================] - 2s 39us/step - loss: 0.2594 - acc: 0.9033\n",
            "Epoch 33/100\n",
            "41398/41398 [==============================] - 2s 39us/step - loss: 0.2591 - acc: 0.9033\n",
            "Epoch 34/100\n",
            "41398/41398 [==============================] - 2s 39us/step - loss: 0.2580 - acc: 0.9036\n",
            "Epoch 35/100\n",
            "41398/41398 [==============================] - 2s 39us/step - loss: 0.2580 - acc: 0.9027\n",
            "Epoch 36/100\n",
            "41398/41398 [==============================] - 2s 39us/step - loss: 0.2583 - acc: 0.9034\n",
            "Epoch 37/100\n",
            "41398/41398 [==============================] - 2s 40us/step - loss: 0.2572 - acc: 0.9040\n",
            "Epoch 38/100\n",
            "41398/41398 [==============================] - 2s 40us/step - loss: 0.2572 - acc: 0.9033\n",
            "Epoch 39/100\n",
            "41398/41398 [==============================] - 2s 38us/step - loss: 0.2568 - acc: 0.9033\n",
            "Epoch 40/100\n",
            "41398/41398 [==============================] - 2s 40us/step - loss: 0.2565 - acc: 0.9039\n",
            "Epoch 41/100\n",
            "41398/41398 [==============================] - 2s 41us/step - loss: 0.2560 - acc: 0.9041\n",
            "Epoch 42/100\n",
            "41398/41398 [==============================] - 2s 40us/step - loss: 0.2558 - acc: 0.9039\n",
            "Epoch 43/100\n",
            "41398/41398 [==============================] - 2s 39us/step - loss: 0.2565 - acc: 0.9044\n",
            "Epoch 44/100\n",
            "41398/41398 [==============================] - 2s 39us/step - loss: 0.2560 - acc: 0.9047\n",
            "Epoch 45/100\n",
            "41398/41398 [==============================] - 2s 39us/step - loss: 0.2551 - acc: 0.9044\n",
            "Epoch 46/100\n",
            "41398/41398 [==============================] - 2s 40us/step - loss: 0.2557 - acc: 0.9042\n",
            "Epoch 47/100\n",
            "41398/41398 [==============================] - 2s 40us/step - loss: 0.2556 - acc: 0.9043\n",
            "Epoch 48/100\n",
            "41398/41398 [==============================] - 2s 42us/step - loss: 0.2544 - acc: 0.9046\n",
            "Epoch 49/100\n",
            "41398/41398 [==============================] - 2s 40us/step - loss: 0.2541 - acc: 0.9045\n",
            "Epoch 50/100\n",
            "41398/41398 [==============================] - 2s 40us/step - loss: 0.2547 - acc: 0.9034\n",
            "Epoch 51/100\n",
            "41398/41398 [==============================] - 2s 40us/step - loss: 0.2545 - acc: 0.9038\n",
            "Epoch 52/100\n",
            "41398/41398 [==============================] - 2s 41us/step - loss: 0.2544 - acc: 0.9047\n",
            "Epoch 53/100\n",
            "41398/41398 [==============================] - 2s 40us/step - loss: 0.2547 - acc: 0.9043\n",
            "Epoch 54/100\n",
            "41398/41398 [==============================] - 2s 39us/step - loss: 0.2544 - acc: 0.9041\n",
            "Epoch 55/100\n",
            "41398/41398 [==============================] - 2s 40us/step - loss: 0.2537 - acc: 0.9035\n",
            "Epoch 56/100\n",
            "41398/41398 [==============================] - 2s 41us/step - loss: 0.2532 - acc: 0.9040\n",
            "Epoch 57/100\n",
            "41398/41398 [==============================] - 2s 39us/step - loss: 0.2540 - acc: 0.9038\n",
            "Epoch 58/100\n",
            "41398/41398 [==============================] - 2s 40us/step - loss: 0.2536 - acc: 0.9037\n",
            "Epoch 59/100\n",
            "41398/41398 [==============================] - 2s 40us/step - loss: 0.2531 - acc: 0.9039\n",
            "Epoch 60/100\n",
            "41398/41398 [==============================] - 2s 39us/step - loss: 0.2533 - acc: 0.9043\n",
            "Epoch 61/100\n",
            "41398/41398 [==============================] - 2s 40us/step - loss: 0.2532 - acc: 0.9046\n",
            "Epoch 62/100\n",
            "41398/41398 [==============================] - 2s 39us/step - loss: 0.2527 - acc: 0.9047\n",
            "Epoch 63/100\n",
            "41398/41398 [==============================] - 2s 39us/step - loss: 0.2534 - acc: 0.9044\n",
            "Epoch 64/100\n",
            "41398/41398 [==============================] - 2s 39us/step - loss: 0.2524 - acc: 0.9049\n",
            "Epoch 65/100\n",
            "41398/41398 [==============================] - 2s 40us/step - loss: 0.2523 - acc: 0.9046\n",
            "Epoch 66/100\n",
            "41398/41398 [==============================] - 2s 40us/step - loss: 0.2532 - acc: 0.9040\n",
            "Epoch 67/100\n",
            "41398/41398 [==============================] - 2s 40us/step - loss: 0.2531 - acc: 0.9047\n",
            "Epoch 68/100\n",
            "41398/41398 [==============================] - 2s 40us/step - loss: 0.2525 - acc: 0.9045\n",
            "Epoch 69/100\n",
            "41398/41398 [==============================] - 2s 39us/step - loss: 0.2529 - acc: 0.9048\n",
            "Epoch 70/100\n",
            "41398/41398 [==============================] - 2s 39us/step - loss: 0.2520 - acc: 0.9046\n",
            "Epoch 71/100\n",
            "41398/41398 [==============================] - 2s 41us/step - loss: 0.2530 - acc: 0.9043\n",
            "Epoch 72/100\n",
            "41398/41398 [==============================] - 2s 39us/step - loss: 0.2524 - acc: 0.9049\n",
            "Epoch 73/100\n",
            "41398/41398 [==============================] - 2s 40us/step - loss: 0.2526 - acc: 0.9045\n",
            "Epoch 74/100\n",
            "41398/41398 [==============================] - 2s 40us/step - loss: 0.2521 - acc: 0.9049\n",
            "Epoch 75/100\n",
            "41398/41398 [==============================] - 2s 39us/step - loss: 0.2517 - acc: 0.9047\n",
            "Epoch 76/100\n",
            "41398/41398 [==============================] - 2s 40us/step - loss: 0.2522 - acc: 0.9052\n",
            "Epoch 77/100\n",
            "41398/41398 [==============================] - 2s 40us/step - loss: 0.2521 - acc: 0.9053\n",
            "Epoch 78/100\n",
            "41398/41398 [==============================] - 2s 40us/step - loss: 0.2517 - acc: 0.9061\n",
            "Epoch 79/100\n",
            "41398/41398 [==============================] - 2s 40us/step - loss: 0.2515 - acc: 0.9051\n",
            "Epoch 80/100\n",
            "41398/41398 [==============================] - 2s 39us/step - loss: 0.2511 - acc: 0.9056\n",
            "Epoch 81/100\n",
            "41398/41398 [==============================] - 2s 40us/step - loss: 0.2516 - acc: 0.9050\n",
            "Epoch 82/100\n",
            "41398/41398 [==============================] - 2s 39us/step - loss: 0.2512 - acc: 0.9054\n",
            "Epoch 83/100\n",
            "41398/41398 [==============================] - 2s 39us/step - loss: 0.2518 - acc: 0.9046\n",
            "Epoch 84/100\n",
            "41398/41398 [==============================] - 2s 40us/step - loss: 0.2512 - acc: 0.9048\n",
            "Epoch 85/100\n",
            "41398/41398 [==============================] - 2s 40us/step - loss: 0.2518 - acc: 0.9049\n",
            "Epoch 86/100\n",
            "41398/41398 [==============================] - 2s 40us/step - loss: 0.2507 - acc: 0.9055\n",
            "Epoch 87/100\n",
            "41398/41398 [==============================] - 2s 39us/step - loss: 0.2510 - acc: 0.9051\n",
            "Epoch 88/100\n",
            "41398/41398 [==============================] - 2s 40us/step - loss: 0.2516 - acc: 0.9048\n",
            "Epoch 89/100\n",
            "41398/41398 [==============================] - 2s 41us/step - loss: 0.2515 - acc: 0.9048\n",
            "Epoch 90/100\n",
            "41398/41398 [==============================] - 2s 39us/step - loss: 0.2510 - acc: 0.9053\n",
            "Epoch 91/100\n",
            "41398/41398 [==============================] - 2s 39us/step - loss: 0.2515 - acc: 0.9053\n",
            "Epoch 92/100\n",
            "41398/41398 [==============================] - 2s 40us/step - loss: 0.2515 - acc: 0.9045\n",
            "Epoch 93/100\n",
            "41398/41398 [==============================] - 2s 40us/step - loss: 0.2510 - acc: 0.9053\n",
            "Epoch 94/100\n",
            "41398/41398 [==============================] - 2s 39us/step - loss: 0.2513 - acc: 0.9050\n",
            "Epoch 95/100\n",
            "41398/41398 [==============================] - 2s 39us/step - loss: 0.2508 - acc: 0.9052\n",
            "Epoch 96/100\n",
            "41398/41398 [==============================] - 2s 41us/step - loss: 0.2511 - acc: 0.9051\n",
            "Epoch 97/100\n",
            "41398/41398 [==============================] - 2s 39us/step - loss: 0.2506 - acc: 0.9054\n",
            "Epoch 98/100\n",
            "41398/41398 [==============================] - 2s 39us/step - loss: 0.2508 - acc: 0.9047\n",
            "Epoch 99/100\n",
            "41398/41398 [==============================] - 2s 40us/step - loss: 0.2509 - acc: 0.9048\n",
            "Epoch 100/100\n",
            "41398/41398 [==============================] - 2s 40us/step - loss: 0.2508 - acc: 0.9053\n"
          ],
          "name": "stdout"
        },
        {
          "output_type": "execute_result",
          "data": {
            "text/plain": [
              "<keras.callbacks.History at 0x7feb63ffcd30>"
            ]
          },
          "metadata": {
            "tags": []
          },
          "execution_count": 18
        }
      ]
    },
    {
      "cell_type": "code",
      "metadata": {
        "id": "Z3KQpTjtLLKX",
        "colab_type": "code",
        "colab": {}
      },
      "source": [
        "y_pred = model.predict(X_test)\n",
        "y_final = (y_pred > 0.5).astype(int).reshape(X_test.shape[0])"
      ],
      "execution_count": 0,
      "outputs": []
    },
    {
      "cell_type": "code",
      "metadata": {
        "id": "FhevXVKANZVg",
        "colab_type": "code",
        "outputId": "9455c216-a80c-4d46-f725-10707283a5f7",
        "colab": {
          "base_uri": "https://localhost:8080/",
          "height": 204
        }
      },
      "source": [
        "print('F1 Score: {:.2f}'.format(f1_score(y_test, y_final)))\n",
        "print('Classification report\\n',classification_report(y_test, y_final))   "
      ],
      "execution_count": 0,
      "outputs": [
        {
          "output_type": "stream",
          "text": [
            "F1 Score: 0.45\n",
            "Classification report\n",
            "               precision    recall  f1-score   support\n",
            "\n",
            "           0       0.92      0.98      0.95      9151\n",
            "           1       0.68      0.34      0.45      1199\n",
            "\n",
            "    accuracy                           0.90     10350\n",
            "   macro avg       0.80      0.66      0.70     10350\n",
            "weighted avg       0.89      0.90      0.89     10350\n",
            "\n"
          ],
          "name": "stdout"
        }
      ]
    },
    {
      "cell_type": "markdown",
      "metadata": {
        "id": "Ej_MdjvMWjUb",
        "colab_type": "text"
      },
      "source": [
        "Learn more about Neural Network   https://www.youtube.com/watch?v=aircAruvnKk"
      ]
    },
    {
      "cell_type": "markdown",
      "metadata": {
        "id": "KKvgmOkntN9J",
        "colab_type": "text"
      },
      "source": [
        "### What's more?\n"
      ]
    },
    {
      "cell_type": "markdown",
      "metadata": {
        "id": "f7tKKwSNuD_4",
        "colab_type": "text"
      },
      "source": [
        "![alt text](https://miro.medium.com/max/2414/1*ak2utPSmFTOMoZL3mTgWrg.png)"
      ]
    },
    {
      "cell_type": "markdown",
      "metadata": {
        "id": "c__LjpcJvFTf",
        "colab_type": "text"
      },
      "source": [
        "Refer to https://medium.com/datadriveninvestor/homemade-machine-learning-in-python-ed77c4d6e25b"
      ]
    }
  ]
}